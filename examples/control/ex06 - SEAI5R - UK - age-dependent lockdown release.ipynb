{
 "cells": [
  {
   "cell_type": "code",
   "execution_count": 1,
   "metadata": {},
   "outputs": [],
   "source": [
    "%%capture\n",
    "## compile PyRoss for this notebook\n",
    "import os\n",
    "owd = os.getcwd()\n",
    "os.chdir('../../')\n",
    "%run setup.py install\n",
    "os.chdir(owd)\n",
    "%matplotlib inline"
   ]
  },
  {
   "cell_type": "code",
   "execution_count": 2,
   "metadata": {},
   "outputs": [],
   "source": [
    "import numpy as np\n",
    "import matplotlib.pyplot as plt\n",
    "import pyross"
   ]
  },
  {
   "cell_type": "markdown",
   "metadata": {},
   "source": [
    "**Note: While this notebook uses the UK age structure and contact matrices, the model parameters are not fitted to real data, but rather chosen ad-hoc.**"
   ]
  },
  {
   "cell_type": "markdown",
   "metadata": {},
   "source": [
    "# Introduction and overview"
   ]
  },
  {
   "cell_type": "markdown",
   "metadata": {},
   "source": [
    "## Model\n",
    "\n",
    "In this notebook, we consider an SEAI5R model. Except for the lockdown protocol, the model considered here is the almost the same as in *examples/deterministic/ex11-SEAI5R-UK.ipynb*.\n",
    "\n",
    "Differences between said notebook and the present one:\n",
    "* We coarse grain the age groups, so that in this notebook we consider only 4 age groups (0-19, 20-39, 40-59, 60-79)\n",
    "* For the fraction of symptomatic infectives that need to go to the hospital for these age groups we use 0.01, 0.05, 0.1, 0.1, reflecting that younger people are, on average, less affected by COVID-19."
   ]
  },
  {
   "cell_type": "markdown",
   "metadata": {},
   "source": [
    "## Protocol\n",
    "\n",
    "We consider a protocol where a lockdown is imposed once the population in the ICU exceeds 1100 (chosen such that the following peak population in the ICU is below the ICU capacity of 4500).\n",
    "\n",
    "We want to find the optimal times to release the lockdown in two stages:\n",
    "\n",
    "* Stage 0: Full lockdown\n",
    "* Stage 1: Release lockdown for age classes 0-19, 20-39. (Since parents of young children are often in the age group 20-39, I suppose it makes sense that either both age groups stay home, or both are released.)\n",
    "* Stage 2: Release lockdown for all age classes, i.e. also for age classes 40-59 and 60-79.\n",
    "\n",
    "During the full lockdown, the contact matrix is given by the home contact matrix $C_H$ of all age groups. For partial lockdowns the work, social, and other contact matrix elements involving all groups that are not in lockdown is added to this home contact matrix.\n",
    "\n",
    "\n",
    "## Cost\n",
    "We consider a cost function $C$ which is infinity if the ICU capacity is exceeded, and otherwise given by\n",
    "\n",
    "\\begin{equation}\n",
    "    C = C_{lockdown} + C_{infection},\n",
    "\\end{equation}\n",
    "\n",
    "where the cost of lockdown is given by\n",
    "\n",
    "\\begin{equation}\n",
    "C_{lockdown} = \\exp\\left[ \\kappa \\cdot (T_1 +  T_2/5) \\right],\n",
    "\\end{equation}\n",
    "\n",
    "where $\\kappa$ is the rate at which the cost of the lockdown increases, $T_1$ is the duration of stage 0 (full lockdown), and $T_2$ is the time of stage 1 (lockdown release for ages 0-39).\n",
    "\n",
    "As cost of infection we choose\n",
    "\n",
    "\\begin{equation}\n",
    "C_{infection} = \\lambda\\cdot I_{m}(t_f),\n",
    "\\end{equation}\n",
    "\n",
    "where $I_m(t_f)$ is the total number of deceased at the final time of the simulation and $\\lambda$ quantifies the cost of a life as compared to the cost of shutting down the economy."
   ]
  },
  {
   "cell_type": "markdown",
   "metadata": {},
   "source": [
    "## Optimisation task\n",
    "\n",
    "We want to optimise the durations $T_1$, $T_2 >0$, i.e. we want to know how long an optimal lockdown lasts. For this, we minimise the cost function above with respect to $(T_1, T_2)$. For every evalulation of the cost function, we need to integrate the model dynamics; for this notebook, we assume deterministic dynamics.\n",
    "\n",
    "The optimal durations of course depend on the parameters $(\\kappa, \\lambda)$ that appear in the cost function, and in the following we consider \n",
    "\n",
    "\\begin{equation}\n",
    "\\lambda = 1,\n",
    "\\end{equation}\n",
    "\n",
    "and the three values\n",
    "\n",
    "\\begin{equation}\n",
    "\\kappa = 10^{-6}, 10^{-3}, 1,\n",
    "\\end{equation}\n",
    "\n",
    "corresponding to low economic cost, intermediate economic cost, and high economic cost."
   ]
  },
  {
   "cell_type": "markdown",
   "metadata": {},
   "source": [
    "### Load UK age structure and contact matrix"
   ]
  },
  {
   "cell_type": "code",
   "execution_count": 3,
   "metadata": {},
   "outputs": [],
   "source": [
    "## population and age classes\n",
    "M=4  ## number of age classes\n",
    "\n",
    "my_data = np.genfromtxt('../data/age_structures/UK.csv', delimiter=',', skip_header=1)\n",
    "aM, aF = my_data[:, 1], my_data[:, 2]\n",
    "\n",
    "Ni0=aM+aF;   Ni=np.zeros((M))\n",
    "\n",
    "Ni[0] = np.sum(Ni0[0:4])\n",
    "Ni[1] = np.sum(Ni0[4:8])\n",
    "Ni[2] = np.sum(Ni0[8:12])\n",
    "Ni[3] = np.sum(Ni0[12:16])\n",
    "N=np.sum(Ni)"
   ]
  },
  {
   "cell_type": "code",
   "execution_count": 4,
   "metadata": {},
   "outputs": [],
   "source": [
    "# Get individual contact matrices\n",
    "CH0, CW0, CS0, CO0 = pyross.contactMatrix.UK()\n",
    "\n",
    "\n",
    "CH = np.zeros((M, M))\n",
    "CW = np.zeros((M, M))\n",
    "CS = np.zeros((M, M))\n",
    "CO = np.zeros((M, M))\n",
    "\n",
    "for i in range(16):\n",
    "    CH0[i,:] = Ni0[i]*CH0[i,:]\n",
    "    CS0[i,:] = Ni0[i]*CS0[i,:]\n",
    "    CW0[i,:] = Ni0[i]*CW0[i,:]\n",
    "    CO0[i,:] = Ni0[i]*CO0[i,:]\n",
    "\n",
    "    \n",
    "for i in range(M):\n",
    "    for j in range(M):\n",
    "        i1, j1 = i*4, j*4\n",
    "        CH[i,j] = np.sum( CH0[i1:i1+4,j1:j1+4]  )/Ni[i]\n",
    "        CW[i,j] = np.sum( CW0[i1:i1+4,j1:j1+4]  )/Ni[i]\n",
    "        CS[i,j] = np.sum( CS0[i1:i1+4,j1:j1+4]  )/Ni[i]\n",
    "        CO[i,j] = np.sum( CO0[i1:i1+4,j1:j1+4]  )/Ni[i]"
   ]
  },
  {
   "cell_type": "code",
   "execution_count": 5,
   "metadata": {},
   "outputs": [
    {
     "data": {
      "image/png": "[encoded data removed]",
      "text/plain": [
       "<Figure size 432x288 with 4 Axes>"
      ]
     },
     "metadata": {
      "needs_background": "light"
     },
     "output_type": "display_data"
    }
   ],
   "source": [
    "fig,aCF =  plt.subplots(2,2);\n",
    "aCF[0][0].pcolor(CH, cmap=plt.cm.get_cmap('GnBu', 10));\n",
    "aCF[0][1].pcolor(CW, cmap=plt.cm.get_cmap('GnBu', 10));\n",
    "aCF[1][0].pcolor(CS, cmap=plt.cm.get_cmap('GnBu', 10));\n",
    "aCF[1][1].pcolor(CO, cmap=plt.cm.get_cmap('GnBu', 10));"
   ]
  },
  {
   "cell_type": "code",
   "execution_count": 6,
   "metadata": {},
   "outputs": [
    {
     "data": {
      "image/png": "[encoded data removed]",
      "text/plain": [
       "<Figure size 432x288 with 4 Axes>"
      ]
     },
     "metadata": {
      "needs_background": "light"
     },
     "output_type": "display_data"
    }
   ],
   "source": [
    "# Create contact matrix for age-dependent lockdown\n",
    "\n",
    "# all locked in\n",
    "C_0 = CH.copy()\n",
    "\n",
    "# all but youngest two classes (0-19, 20-39) locked in\n",
    "C_1 = CH.copy()\n",
    "C_1[:2,:2] += CW[:2,:2] + CS[:2,:2] + CO[:2,:2]\n",
    "\n",
    "# all but youngest three classes (0-19, 20-39, 40-59) locked in\n",
    "C_2 = CH.copy()\n",
    "C_2[:3,:3] += CW[:3,:3] + CS[:3,:3] + CO[:3,:3]\n",
    "\n",
    "# nobody locked in\n",
    "C_3 = CH + CW + CS + CO\n",
    "\n",
    "C = CH + CW + CS + CO\n",
    "\n",
    "\n",
    "fig,aCF =  plt.subplots(2,2);\n",
    "aCF[0][0].pcolor(C_0, cmap=plt.cm.get_cmap('GnBu', 10));\n",
    "aCF[0][1].pcolor(C_1, cmap=plt.cm.get_cmap('GnBu', 10));\n",
    "aCF[1][0].pcolor(C_2, cmap=plt.cm.get_cmap('GnBu', 10));\n",
    "aCF[1][1].pcolor(C_3, cmap=plt.cm.get_cmap('GnBu', 10));"
   ]
  },
  {
   "cell_type": "markdown",
   "metadata": {},
   "source": [
    "### Define model parameters\n",
    "\n",
    "**Note: These parameters are not fitted, but chosen ad-hoc.**"
   ]
  },
  {
   "cell_type": "code",
   "execution_count": 7,
   "metadata": {},
   "outputs": [],
   "source": [
    "beta  = 0.036692            # infection rate \n",
    "\n",
    "gE    = 1/5\n",
    "gA    = 1/3\n",
    "gIa   = 1./7                # recovery rate of asymptomatic infectives \n",
    "gIs   = 1./7                # recovery rate of symptomatic infectives \n",
    "alpha = 0.3                 # fraction of asymptomatic infectives \n",
    "fsa   = 0.2                 # the self-isolation parameter   \n",
    "fh    = 0\n",
    "gIh   = 1/14\n",
    "gIc   = 1/14\n",
    " \n",
    "sa    = 0*np.ones(M)      #  rate of additional/removal of population by birth etc\n",
    "sa[0]     = 1500            # birth\n",
    "sa[3] = -300            # mortality\n",
    "\n",
    "\n",
    "hh   = 0.1*np.ones(M)       # fraction which goes from Is to hospital\n",
    "hh[0] = 0.01\n",
    "hh[1] = 0.05\n",
    "cc   = 0.05*np.ones(M)      # fraction which goes from  hospital to ICU \n",
    "mm   = 0.4*np.ones(M)       # mortality from IC\n",
    "\n",
    "\n",
    "\n",
    "# initial conditions    \n",
    "Is_0 = np.zeros((M));  #Is_0[6:13]=8;  Is_0[2:6]=4; Is_0[13:16]=4\n",
    "\n",
    "\n",
    "Ia_0 = 1000*np.ones((M));  \n",
    "R_0  = np.zeros((M))\n",
    "E_0  = np.zeros((M))\n",
    "A_0  = np.zeros((M))\n",
    "Ih_0  = np.zeros((M))\n",
    "Ic_0  = np.zeros((M))\n",
    "Im_0  = np.zeros((M))\n",
    "\n",
    "S_0  = Ni - (E_0 + A_0 + Ia_0 + Is_0 + Ih_0 + Ic_0 +Im_0 + R_0)"
   ]
  },
  {
   "cell_type": "markdown",
   "metadata": {},
   "source": [
    "### Define function to get list of events for a given protocol"
   ]
  },
  {
   "cell_type": "code",
   "execution_count": 8,
   "metadata": {},
   "outputs": [
    {
     "name": "stdout",
     "output_type": "stream",
     "text": [
      "[[70.74460829663414, 1], [200.0, 2], [300.0, 3]]\n"
     ]
    }
   ],
   "source": [
    "def get_events(protocol,time_of_first_release = 300.):\n",
    "    lockdown_threshold_1, lockdown_threshold_2 = protocol\n",
    "    #\n",
    "    events = []\n",
    "    contactMatrices = []\n",
    "    # Note that for technical reasons, the event functions take a\n",
    "    # vector argument \"rp\" instead of a tuple (S, E, A, Ia, Is, Ih, Ic, Im).\n",
    "    # When defining the event functions, the following correspondence has to be used:\n",
    "    # S  == rp[ :M]\n",
    "    # E  == rp[M:2*M]\n",
    "    # A  == rp[2*M:3*M]\n",
    "    # Ia == rp[3*M:4*M]\n",
    "    # Is == rp[4*M:5*M]\n",
    "    # Ih == rp[5*M:6*M]\n",
    "    # Ic == rp[6*M:7*M]\n",
    "    # Im == rp[7*M:8*M]\n",
    "    #\n",
    "    # This is a dummy event which will never occur; it is used to set the initial contact matrix\n",
    "    def cur_event(t,rp):\n",
    "        return t + 1\n",
    "    cur_event.direction = +1\n",
    "    events.append(cur_event)\n",
    "    contactMatrices.append( C )\n",
    "    #\n",
    "    # Lockdown\n",
    "    lockdown_threshold_0 = 1100\n",
    "    def cur_event0(t,rp):\n",
    "        return np.sum(rp[6*M:7*M]) - lockdown_threshold_0\n",
    "    cur_event0.direction = +1 # this means we need to pass the threshold from below for the event to happen\n",
    "    events.append(cur_event0)\n",
    "    contactMatrices.append( C_0 ) # everybody in lockdown\n",
    "    #\n",
    "    # Release age groups 0-39\n",
    "    #lockdown_threshold_1 = 300\n",
    "    def cur_event1(t,rp):\n",
    "        #return np.sum(rp[6*M:7*M]) - lockdown_threshold_1\n",
    "        return t - lockdown_threshold_1\n",
    "    cur_event1.direction = +1 # this means we need to pass the threshold from above for the event to happen\n",
    "    events.append(cur_event1)\n",
    "    contactMatrices.append( C_1 )\n",
    "    # Release all age groups\n",
    "    #lockdown_threshold_2 = 290\n",
    "    def cur_event2(t,rp):\n",
    "        #if t < time_of_first_release:\n",
    "        #    return 1.\n",
    "        #else:\n",
    "        #    return np.sum(rp[6*M:7*M]) - lockdown_threshold_2\n",
    "        return t - lockdown_threshold_2\n",
    "    cur_event2.direction = +1 # this means we need to pass the threshold from above for the event to happen\n",
    "    events.append(cur_event2)\n",
    "    contactMatrices.append( C_3 ) # full contact matrix\n",
    "    return events, contactMatrices\n",
    "\n",
    "\n",
    "events, contactMatrices = get_events(protocol=[200,300])\n",
    "\n",
    "# intantiate model\n",
    "parameters = {'alpha':alpha,'beta':beta, 'gIa':gIa,'gIs':gIs,\n",
    "              'gIh':gIh,'gIc':gIc,  'gE':gE, 'gA':gA,\n",
    "              'fsa':fsa, 'fh':fh, \n",
    "              'sa':sa, 'hh':hh, 'cc':cc, 'mm':mm}\n",
    "model = pyross.control.SEAI5R(parameters, M, Ni)\n",
    "\n",
    "# Run simulation\n",
    "Tf = 5*365\n",
    "Nt = (Tf +1)*10\n",
    "\n",
    "result = model.simulate(S_0, E_0, A_0, Ia_0, Is_0, Ih_0, Ic_0, Im_0 ,\n",
    "                        events=events,contactMatrices=contactMatrices,Tf=Tf, Nf=Nt,\n",
    "                       events_repeat=False)\n",
    "\n",
    "print(result['events_occured'])"
   ]
  },
  {
   "cell_type": "code",
   "execution_count": 9,
   "metadata": {},
   "outputs": [],
   "source": [
    "def plot_result(t_arr,trajs,events_occured):\n",
    "    # Plot result\n",
    "    #t_arr = result['t']\n",
    "    #trajs = result['X'].T\n",
    "    fontsize=25\n",
    "    fig, ax = plt.subplots(1,1,figsize=(7,5))\n",
    "    ax.set_title('SEAI5R, Population in ICU',\n",
    "                y=1.05,fontsize=25)\n",
    "    ax.axhline(4500,color='orange',\n",
    "               lw=3,ls='--',\n",
    "               label='ICU capacity')\n",
    "    for i,e in enumerate(events_occured):\n",
    "        if e[1] == 1:\n",
    "            color='crimson'\n",
    "            if i < 2:\n",
    "                label='Lockdown start'\n",
    "            else:\n",
    "                label= ''\n",
    "        else:\n",
    "            color='limegreen'\n",
    "            if i < 2:\n",
    "                label='Lockdown end'\n",
    "            else:\n",
    "                label= ''\n",
    "        ax.axvline(e[0],label=label,\n",
    "                   color=color,\n",
    "                   lw=3,\n",
    "                   ls='--',alpha=0.5)\n",
    "    ax.plot(t_arr,np.sum(trajs[6*M:7*M],axis=0),\n",
    "        label='SEAI5R model', \n",
    "        color='black',\n",
    "        lw=2,\n",
    "       )\n",
    "    ax.set_xlim(np.min(t_arr),np.max(t_arr))\n",
    "    ax.set_ylabel(r'$N_c$',fontsize=fontsize)\n",
    "    ax.set_xlabel(r'$t$ [days]',fontsize=fontsize)\n",
    "    ax.legend(loc='upper right',bbox_to_anchor=(1.4,1.02),\n",
    "              framealpha=1.,\n",
    "             fontsize=15)\n",
    "    plt.show()\n",
    "    #fig.savefig('threshold_driven_protocol_change_SEAI5R_UK.png',bbox_inches='tight',\n",
    "    #           dpi=100)\n",
    "    plt.close()\n",
    "\n",
    "\n",
    "    fontsize=25\n",
    "    fig, ax = plt.subplots(1,1,figsize=(7,5))\n",
    "    ax.set_title('SEAI5R, Population in ICU',\n",
    "                y=1.05,fontsize=25)\n",
    "    ax.axhline(4500,color='orange',\n",
    "               lw=3,ls='--',\n",
    "               label='ICU capacity')\n",
    "    for i,e in enumerate(events_occured):\n",
    "        if e[1] == 1:\n",
    "            color='crimson'\n",
    "            if i < 2:\n",
    "                label='Lockdown start'\n",
    "            else:\n",
    "                label= ''\n",
    "        else:\n",
    "            color='limegreen'\n",
    "            if i < 2:\n",
    "                label='Lockdown end'\n",
    "            else:\n",
    "                label= ''\n",
    "        ax.axvline(e[0],label=label,\n",
    "                   color=color,\n",
    "                   lw=3,\n",
    "                   ls='--',alpha=0.5)\n",
    "    ax.plot(t_arr,np.sum(trajs[6*M:7*M],axis=0),\n",
    "        label='SEAI5R model', \n",
    "        color='black',\n",
    "        lw=2,\n",
    "       )\n",
    "    #ax.set_xlim(np.min(t_arr),np.max(t_arr))\n",
    "    ax.set_xlim(0,2*365)\n",
    "    ax.set_ylim(0,5500)\n",
    "    ax.set_ylabel(r'$N_c$',fontsize=fontsize)\n",
    "    ax.set_xlabel(r'$t$ [days]',fontsize=fontsize)\n",
    "    #ax.legend(loc='upper right',bbox_to_anchor=(0.8,0.96),\n",
    "    #          framealpha=1.,\n",
    "    #         fontsize=15)\n",
    "    plt.show()\n",
    "    #fig.savefig('threshold_driven_protocol_change_SEAI5R_UK.png',bbox_inches='tight',\n",
    "    #           dpi=100)\n",
    "    plt.close()\n",
    "\n",
    "\n",
    "\n",
    "\n",
    "    fontsize=25\n",
    "    fig, ax = plt.subplots(1,1,figsize=(7,5))\n",
    "    ax.set_title('SEAI5R, Population in hospital',\n",
    "                y=1.05,fontsize=25)\n",
    "    #ax.axhline(4500,color='orange',\n",
    "    #           lw=3,ls='--',\n",
    "    #           label='ICU capacity')\n",
    "    for i,e in enumerate(events_occured):\n",
    "        if e[1] == 1:\n",
    "            color='crimson'\n",
    "            if i < 2:\n",
    "                label='Lockdown start'\n",
    "            else:\n",
    "                label= ''\n",
    "        else:\n",
    "            color='limegreen'\n",
    "            if i < 2:\n",
    "                label='Lockdown end'\n",
    "            else:\n",
    "                label= ''\n",
    "        ax.axvline(e[0],label=label,\n",
    "                   color=color,\n",
    "                   lw=3,\n",
    "                   ls='--',alpha=0.5)\n",
    "    ax.plot(t_arr,np.sum(trajs[5*M:6*M],axis=0),\n",
    "        label='SEAI5R model', \n",
    "        color='black',\n",
    "        lw=2,\n",
    "       )\n",
    "    ax.set_xlim(np.min(t_arr),np.max(t_arr))\n",
    "    #ax.set_ylim(0,5500)\n",
    "    ax.set_ylabel(r'$N_c$',fontsize=fontsize)\n",
    "    ax.set_xlabel(r'$t$ [days]',fontsize=fontsize)\n",
    "    #ax.legend(loc='upper right',bbox_to_anchor=(0.8,0.96),\n",
    "    #          framealpha=1.,\n",
    "    #         fontsize=15)\n",
    "    plt.show(fig)\n",
    "    #fig.savefig('threshold_driven_protocol_change_SEAI5R_UK.png',bbox_inches='tight',\n",
    "    #           dpi=100)\n",
    "    plt.close(fig)\n",
    "    \n",
    "#plot_result(result['t'],result['X'].T,result['events_occured'])"
   ]
  },
  {
   "cell_type": "markdown",
   "metadata": {},
   "source": [
    "### Define cost function"
   ]
  },
  {
   "cell_type": "code",
   "execution_count": 10,
   "metadata": {},
   "outputs": [],
   "source": [
    "def evaluate_cost_function(t_arr,traj,protocol,events_occured,\n",
    "                           prefactor_economic_cost=1.,\n",
    "                           rate_economic_cost=1/7.,\n",
    "                              prefactor_mortality_cost=10.):\n",
    "    #global time_of_first_release\n",
    "    if (np.array(protocol) < 0).any():\n",
    "        return np.inf\n",
    "    if protocol[0] > protocol[1]:\n",
    "        return np.inf\n",
    "    #\n",
    "    cost = 0.\n",
    "    #\n",
    "    have_lockdown_start = False\n",
    "    have_lockdown_end_0 = False\n",
    "    have_lockdown_end_1 = False\n",
    "    #\n",
    "    for i,e in enumerate(events_occured):\n",
    "        if e[1] == 1:\n",
    "            lockdown_start = e[0]\n",
    "            have_lockdown_start = True\n",
    "        elif e[1] == 2:\n",
    "            lockdown_end_0 = e[0]\n",
    "            have_lockdown_end_0 = True\n",
    "        elif e[1] == 3:\n",
    "            lockdown_end_1 = e[0]\n",
    "            have_lockdown_end_1 = True\n",
    "    if have_lockdown_start:\n",
    "        if have_lockdown_end_0:\n",
    "            cost += prefactor_economic_cost* np.exp(rate_economic_cost* (lockdown_end_0-lockdown_start))\n",
    "        else:\n",
    "            cost += np.inf\n",
    "        #\n",
    "        if have_lockdown_end_0 and have_lockdown_end_1:\n",
    "            cost *=  np.exp(0.2*rate_economic_cost* (lockdown_end_1-lockdown_end_0))\n",
    "    #for i,e in enumerate(lockdowns):\n",
    "    #    cost += 10*np.exp(e[1]/7.)\n",
    "    if np.max( np.sum( traj[6*M:7*M],axis=0 ) ) > 4500:\n",
    "        return np.inf\n",
    "    #\n",
    "    cost += prefactor_mortality_cost * np.sum( traj[7*M:8*M,-1]  )\n",
    "    #print(cost/prefactor_mortality_cost)\n",
    "    #\n",
    "    return cost\n",
    "\n",
    "\n",
    "\n",
    "def evaluate_cost_of_protocol(model,protocol,\n",
    "                             verbose=False,return_trajectory=False,\n",
    "                              prefactor_economic_cost=10.,\n",
    "                              rate_economic_cost=1/7.,\n",
    "                             prefactor_mortality_cost=10.):\n",
    "    #\n",
    "    events, contactMatrices = get_events(protocol)\n",
    "    # intantiate model\n",
    "    parameters = {'alpha':alpha,'beta':beta, 'gIa':gIa,'gIs':gIs,\n",
    "                  'gIh':gIh,'gIc':gIc,  'gE':gE, 'gA':gA,\n",
    "                  'fsa':fsa, 'fh':fh, \n",
    "                  'sa':sa, 'hh':hh, 'cc':cc, 'mm':mm}\n",
    "    # Run simulation\n",
    "    Tf = 2000\n",
    "    Nt = (Tf +1)*10\n",
    "    result = model.simulate(S_0, E_0, A_0, Ia_0, Is_0, Ih_0, Ic_0, Im_0 ,\n",
    "                            events=events,contactMatrices=contactMatrices,Tf=Tf, Nf=Nt,\n",
    "                           events_repeat=False)\n",
    "    #\n",
    "    \n",
    "    cost = evaluate_cost_function(t_arr=result['t'],\n",
    "                                   traj=result['X'].T,\n",
    "                                   protocol=protocol,\n",
    "                                  events_occured=result['events_occured'],\n",
    "                                  prefactor_economic_cost=prefactor_economic_cost,\n",
    "                                  rate_economic_cost=rate_economic_cost,\n",
    "                                  prefactor_mortality_cost=prefactor_mortality_cost)\n",
    "    if return_trajectory:\n",
    "        return cost, result['t'], result['X'].T, result['events_occured']\n",
    "    else:\n",
    "        return cost\n",
    "    \n",
    "    \n",
    "protocol=[170,400]\n",
    "model = pyross.control.SEAI5R(parameters, M, Ni)\n",
    "\n",
    "\n",
    "cost, t_arr, traj, events_occured = evaluate_cost_of_protocol(model=model,\n",
    "                                             protocol=protocol,\n",
    "                                              return_trajectory=True)"
   ]
  },
  {
   "cell_type": "markdown",
   "metadata": {},
   "source": [
    "### Minimise cost for low-, intermediate-, and high cost of social distancing"
   ]
  },
  {
   "cell_type": "code",
   "execution_count": 11,
   "metadata": {},
   "outputs": [],
   "source": [
    "def minimizing_function(prefactor_mortality_cost,\n",
    "                        rate_economic_cost,\n",
    "                        protocol):\n",
    "    # evaluate cost\n",
    "    costs = evaluate_cost_of_protocol(model=model,\n",
    "                                             protocol=protocol,\n",
    "                                      rate_economic_cost=rate_economic_cost,\n",
    "                                      prefactor_mortality_cost=prefactor_mortality_cost,\n",
    "                                              return_trajectory=False)\n",
    "    return costs"
   ]
  },
  {
   "cell_type": "code",
   "execution_count": 12,
   "metadata": {
    "scrolled": true
   },
   "outputs": [
    {
     "name": "stdout",
     "output_type": "stream",
     "text": [
      "1.0 1e-06\n",
      "(6_w,12)-aCMA-ES (mu_w=3.7,w_1=40%) in dimension 2 (seed=914152, Thu May  7 13:02:38 2020)\n",
      "Iterat #Fevals   function value  axis ratio  sigma  min&max std  t[m:s]\n",
      "    1     12 2.022293557470392e+04 1.0e+00 1.12e+00  1e+00  1e+00 0:01.1\n",
      "    2     24 2.022312029588200e+04 1.1e+00 1.26e+00  1e+00  1e+00 0:02.2\n",
      "    3     36 2.022312028470836e+04 1.3e+00 1.27e+00  8e-01  1e+00 0:03.3\n",
      "    6     72 2.022293558620198e+04 2.7e+00 7.69e-01  2e-01  8e-01 0:06.3\n",
      "   11    132 2.022293546149441e+04 1.4e+01 9.60e-01  8e-02  2e+00 0:10.7\n",
      "   17    204 2.022293514965927e+04 7.8e+01 3.31e+00  9e-02  7e+00 0:15.8\n",
      "   23    276 2.022293480082698e+04 3.8e+02 6.64e+00  5e-02  3e+01 0:22.9\n",
      "   29    348 2.022293474755775e+04 7.1e+02 9.35e+00  4e-02  2e+01 0:30.3\n",
      "   36    432 2.022293476023690e+04 7.5e+02 3.91e+00  6e-03  4e+00 0:38.7\n",
      "   45    540 2.022293476059574e+04 5.7e+02 3.66e+00  5e-03  2e+00 0:48.4\n",
      "   55    660 2.022293475968075e+04 1.7e+02 9.54e-01  7e-04  1e-01 0:59.3\n",
      "   67    804 2.022293475966904e+04 3.2e+01 2.85e-01  1e-04  4e-03 1:10.7\n",
      "   80    960 2.022293475965866e+04 1.6e+00 6.81e-01  3e-04  7e-04 1:22.7\n"
     ]
    },
    {
     "name": "stderr",
     "output_type": "stream",
     "text": [
      "/Users/jkappler/miniconda3/envs/snowflake/lib/python3.7/site-packages/cma/utilities/utils.py:347: UserWarning: sigma change np.exp(1.0625314618671262) = 2.8936869835350003 clipped to np.exp(+-1) (class=CMAAdaptSigmaCSA method=update iteration=81)\n",
      "  ')')\n"
     ]
    },
    {
     "name": "stdout",
     "output_type": "stream",
     "text": [
      "   95   1140 2.022293475916308e+04 4.0e+00 1.25e+01  2e-03  6e-03 1:36.0\n",
      "  100   1200 2.022293475914168e+04 1.1e+00 8.09e+00  9e-04  1e-03 1:40.5\n",
      "  117   1404 2.022293475912787e+04 4.6e+00 5.20e+00  6e-05  3e-04 1:56.0\n",
      "  133   1596 2.022293475912660e+04 3.0e+00 4.61e+00  2e-05  4e-05 2:12.1\n",
      "  151   1812 2.022293475912656e+04 5.9e+00 2.86e+00  1e-06  9e-06 2:29.3\n",
      "  170   2040 2.022293475912653e+04 2.7e+00 2.09e+00  3e-07  6e-07 2:47.9\n",
      "  182   2184 2.022293475912653e+04 7.0e+00 1.61e+00  4e-08  3e-07 2:58.8\n",
      "1.0 0.001\n",
      "(6_w,12)-aCMA-ES (mu_w=3.7,w_1=40%) in dimension 2 (seed=888958, Thu May  7 13:05:37 2020)\n",
      "Iterat #Fevals   function value  axis ratio  sigma  min&max std  t[m:s]\n",
      "    1     12 2.581234732291854e+04 1.0e+00 1.82e+00  2e+00  2e+00 0:00.7\n",
      "    2     24 2.534489097020778e+04 1.5e+00 3.94e+00  3e+00  5e+00 0:01.8\n",
      "    3     36 2.494455992475773e+04 1.6e+00 5.45e+00  4e+00  6e+00 0:02.6\n",
      "    7     84 2.398506529347316e+04 1.3e+00 3.60e+01  3e+01  4e+01 0:05.7\n"
     ]
    },
    {
     "name": "stderr",
     "output_type": "stream",
     "text": [
      "/Users/jkappler/miniconda3/envs/snowflake/lib/python3.7/site-packages/cma/utilities/utils.py:347: UserWarning: function values with index [5, 8, 9, 10] are not finite but [inf, inf, inf, inf]. (class=CMAEvolutionStrategy method=ask iteration=7)\n",
      "  ')')\n",
      "/Users/jkappler/miniconda3/envs/snowflake/lib/python3.7/site-packages/cma/utilities/utils.py:347: UserWarning: function values with index [4, 5, 7, 9] are not finite but [inf, inf, inf, inf]. (class=CMAEvolutionStrategy method=ask iteration=8)\n",
      "  ')')\n",
      "/Users/jkappler/miniconda3/envs/snowflake/lib/python3.7/site-packages/cma/utilities/utils.py:347: UserWarning: function values with index [0, 1, 4, 6, 8, 9, 11] are not finite but [inf, inf, inf, inf, inf, inf, inf]. (class=CMAEvolutionStrategy method=ask iteration=9)\n",
      "  ')')\n",
      "/Users/jkappler/miniconda3/envs/snowflake/lib/python3.7/site-packages/cma/utilities/utils.py:347: UserWarning: function values with index [1, 3, 6, 8, 11] are not finite but [inf, inf, inf, inf, inf]. (class=CMAEvolutionStrategy method=ask iteration=10)\n",
      "  ')')\n",
      "/Users/jkappler/miniconda3/envs/snowflake/lib/python3.7/site-packages/cma/utilities/utils.py:347: UserWarning: function values with index [0, 2, 5, 7, 8, 9] are not finite but [inf, inf, inf, inf, inf, inf]. (class=CMAEvolutionStrategy method=ask iteration=11)\n",
      "  ')')\n"
     ]
    },
    {
     "name": "stdout",
     "output_type": "stream",
     "text": [
      "   13    156 2.279323105046198e+04 3.1e+00 1.61e+01  3e+00  1e+01 0:10.2\n"
     ]
    },
    {
     "name": "stderr",
     "output_type": "stream",
     "text": [
      "/Users/jkappler/miniconda3/envs/snowflake/lib/python3.7/site-packages/cma/utilities/utils.py:347: UserWarning: function values with index [2, 5, 11] are not finite but [inf, inf, inf]. (class=CMAEvolutionStrategy method=ask iteration=12)\n",
      "  ')')\n",
      "/Users/jkappler/miniconda3/envs/snowflake/lib/python3.7/site-packages/cma/utilities/utils.py:347: UserWarning: function values with index [1, 2, 4, 6, 9] are not finite but [inf, inf, inf, inf, inf]. (class=CMAEvolutionStrategy method=ask iteration=13)\n",
      "  ')')\n",
      "/Users/jkappler/miniconda3/envs/snowflake/lib/python3.7/site-packages/cma/utilities/utils.py:347: UserWarning: function values with index [2, 3, 4, 8] are not finite but [inf, inf, inf, inf]. (class=CMAEvolutionStrategy method=ask iteration=14)\n",
      "  ')')\n",
      "/Users/jkappler/miniconda3/envs/snowflake/lib/python3.7/site-packages/cma/utilities/utils.py:347: UserWarning: function values with index [3, 7] are not finite but [inf, inf]. (class=CMAEvolutionStrategy method=ask iteration=15)\n",
      "  ')')\n",
      "/Users/jkappler/miniconda3/envs/snowflake/lib/python3.7/site-packages/cma/utilities/utils.py:347: UserWarning: function values with index [2, 3, 4, 9] are not finite but [inf, inf, inf, inf]. (class=CMAEvolutionStrategy method=ask iteration=16)\n",
      "  ')')\n",
      "/Users/jkappler/miniconda3/envs/snowflake/lib/python3.7/site-packages/cma/utilities/utils.py:347: UserWarning: function values with index [0, 1, 7, 9] are not finite but [inf, inf, inf, inf]. (class=CMAEvolutionStrategy method=ask iteration=17)\n",
      "  ')')\n",
      "/Users/jkappler/miniconda3/envs/snowflake/lib/python3.7/site-packages/cma/utilities/utils.py:347: UserWarning: function values with index [10] are not finite but [inf]. (class=CMAEvolutionStrategy method=ask iteration=18)\n",
      "  ')')\n"
     ]
    },
    {
     "name": "stdout",
     "output_type": "stream",
     "text": [
      "   20    240 2.026480744784010e+04 1.8e+01 2.97e+02  2e+01  3e+02 0:15.9\n"
     ]
    },
    {
     "name": "stderr",
     "output_type": "stream",
     "text": [
      "/Users/jkappler/miniconda3/envs/snowflake/lib/python3.7/site-packages/cma/utilities/utils.py:347: UserWarning: function values with index [4, 6] are not finite but [inf, inf]. (class=CMAEvolutionStrategy method=ask iteration=19)\n",
      "  ')')\n",
      "/Users/jkappler/miniconda3/envs/snowflake/lib/python3.7/site-packages/cma/utilities/utils.py:347: UserWarning: function values with index [8, 9] are not finite but [inf, inf]. (class=CMAEvolutionStrategy method=ask iteration=20)\n",
      "  ')')\n",
      "/Users/jkappler/miniconda3/envs/snowflake/lib/python3.7/site-packages/cma/utilities/utils.py:347: UserWarning: function values with index [2, 7, 10] are not finite but [inf, inf, inf]. (class=CMAEvolutionStrategy method=ask iteration=21)\n",
      "  ')')\n"
     ]
    },
    {
     "name": "stdout",
     "output_type": "stream",
     "text": [
      "   26    312 2.022877741843612e+04 2.3e+01 2.57e+02  9e+00  2e+02 0:22.2\n",
      "   33    396 2.022527786026371e+04 5.2e+01 2.15e+02  3e+00  1e+02 0:30.0\n",
      "   41    492 2.022503090617846e+04 3.1e+01 5.69e+01  2e-01  8e+00 0:38.0\n",
      "   50    600 2.022503032491548e+04 7.9e+01 2.45e+01  2e-02  1e+00 0:47.5\n",
      "   61    732 2.022502983563751e+04 6.8e+01 1.61e+01  1e-02  4e-01 0:58.1\n",
      "   73    876 2.022502952121208e+04 7.4e+00 9.41e+00  5e-03  2e-02 1:10.0\n",
      "   86   1032 2.022502947970273e+04 6.7e+00 5.00e+00  7e-04  3e-03 1:22.9\n",
      "   99   1188 2.022502947660535e+04 4.3e+00 2.01e+00  7e-05  2e-04 1:36.0\n",
      "  100   1200 2.022502947575824e+04 4.2e+00 2.50e+00  9e-05  3e-04 1:37.1\n",
      "  116   1392 2.022502947519887e+04 8.5e+00 4.63e-01  1e-06  9e-06 1:52.2\n",
      "  133   1596 2.022502947515680e+04 3.2e+00 3.05e-01  2e-07  7e-07 2:08.5\n",
      "  152   1824 2.022502947515513e+04 8.3e+00 1.21e-01  6e-09  6e-08 2:25.8\n",
      "  175   2100 2.022502947515501e+04 5.1e+00 5.87e-02  6e-10  2e-09 2:44.1\n",
      "  194   2328 2.022502947515500e+04 2.9e+00 2.51e-02  4e-11  2e-10 2:59.1\n",
      "1.0 1.0\n",
      "(6_w,12)-aCMA-ES (mu_w=3.7,w_1=40%) in dimension 2 (seed=962128, Thu May  7 13:08:36 2020)\n",
      "Iterat #Fevals   function value  axis ratio  sigma  min&max std  t[m:s]\n",
      "    1     12 3.346525885933176e+63 1.0e+00 1.66e+00  2e+00  2e+00 0:00.7\n",
      "    2     24 2.551252749660245e+62 1.4e+00 4.10e+00  4e+00  5e+00 0:01.4\n",
      "    3     36 2.669388607095213e+60 1.4e+00 7.91e+00  6e+00  1e+01 0:02.1\n"
     ]
    },
    {
     "name": "stderr",
     "output_type": "stream",
     "text": [
      "/Users/jkappler/miniconda3/envs/snowflake/lib/python3.7/site-packages/cma/utilities/utils.py:347: UserWarning: function values with index [2, 10] are not finite but [inf, inf]. (class=CMAEvolutionStrategy method=ask iteration=5)\n",
      "  ')')\n"
     ]
    },
    {
     "name": "stdout",
     "output_type": "stream",
     "text": [
      "    7     84 9.159656117532696e+46 1.6e+00 2.95e+01  2e+01  2e+01 0:05.2\n"
     ]
    },
    {
     "name": "stderr",
     "output_type": "stream",
     "text": [
      "/Users/jkappler/miniconda3/envs/snowflake/lib/python3.7/site-packages/cma/utilities/utils.py:347: UserWarning: function values with index [1, 4, 7, 8, 11] are not finite but [inf, inf, inf, inf, inf]. (class=CMAEvolutionStrategy method=ask iteration=6)\n",
      "  ')')\n",
      "/Users/jkappler/miniconda3/envs/snowflake/lib/python3.7/site-packages/cma/utilities/utils.py:347: UserWarning: function values with index [7, 11] are not finite but [inf, inf]. (class=CMAEvolutionStrategy method=ask iteration=7)\n",
      "  ')')\n",
      "/Users/jkappler/miniconda3/envs/snowflake/lib/python3.7/site-packages/cma/utilities/utils.py:347: UserWarning: function values with index [0, 5] are not finite but [inf, inf]. (class=CMAEvolutionStrategy method=ask iteration=8)\n",
      "  ')')\n",
      "/Users/jkappler/miniconda3/envs/snowflake/lib/python3.7/site-packages/cma/utilities/utils.py:347: UserWarning: function values with index [0, 2, 3, 4, 10, 11] are not finite but [inf, inf, inf, inf, inf, inf]. (class=CMAEvolutionStrategy method=ask iteration=9)\n",
      "  ')')\n",
      "/Users/jkappler/miniconda3/envs/snowflake/lib/python3.7/site-packages/cma/utilities/utils.py:347: UserWarning: function values with index [10] are not finite but [inf]. (class=CMAEvolutionStrategy method=ask iteration=10)\n",
      "  ')')\n",
      "/Users/jkappler/miniconda3/envs/snowflake/lib/python3.7/site-packages/cma/utilities/utils.py:347: UserWarning: function values with index [1, 4, 6, 8, 9] are not finite but [inf, inf, inf, inf, inf]. (class=CMAEvolutionStrategy method=ask iteration=11)\n",
      "  ')')\n"
     ]
    },
    {
     "name": "stdout",
     "output_type": "stream",
     "text": [
      "   13    156 9.617986883144954e+38 4.5e+00 5.81e+01  1e+01  6e+01 0:09.4\n"
     ]
    },
    {
     "name": "stderr",
     "output_type": "stream",
     "text": [
      "/Users/jkappler/miniconda3/envs/snowflake/lib/python3.7/site-packages/cma/utilities/utils.py:347: UserWarning: function values with index [5, 9] are not finite but [inf, inf]. (class=CMAEvolutionStrategy method=ask iteration=12)\n",
      "  ')')\n",
      "/Users/jkappler/miniconda3/envs/snowflake/lib/python3.7/site-packages/cma/utilities/utils.py:347: UserWarning: function values with index [0, 1, 3, 4, 5, 7] are not finite but [inf, inf, inf, inf, inf, inf]. (class=CMAEvolutionStrategy method=ask iteration=13)\n",
      "  ')')\n",
      "/Users/jkappler/miniconda3/envs/snowflake/lib/python3.7/site-packages/cma/utilities/utils.py:347: UserWarning: function values with index [0] are not finite but [inf]. (class=CMAEvolutionStrategy method=ask iteration=14)\n",
      "  ')')\n",
      "/Users/jkappler/miniconda3/envs/snowflake/lib/python3.7/site-packages/cma/utilities/utils.py:347: UserWarning: function values with index [2, 7] are not finite but [inf, inf]. (class=CMAEvolutionStrategy method=ask iteration=15)\n",
      "  ')')\n",
      "/Users/jkappler/miniconda3/envs/snowflake/lib/python3.7/site-packages/cma/utilities/utils.py:347: UserWarning: function values with index [3, 7, 9] are not finite but [inf, inf, inf]. (class=CMAEvolutionStrategy method=ask iteration=16)\n",
      "  ')')\n",
      "/Users/jkappler/miniconda3/envs/snowflake/lib/python3.7/site-packages/cma/utilities/utils.py:347: UserWarning: function values with index [1, 3, 4, 7, 10] are not finite but [inf, inf, inf, inf, inf]. (class=CMAEvolutionStrategy method=ask iteration=17)\n",
      "  ')')\n"
     ]
    },
    {
     "name": "stdout",
     "output_type": "stream",
     "text": [
      "   19    228 2.416952174258570e+35 4.9e+00 4.49e+01  5e+00  2e+01 0:14.5\n"
     ]
    },
    {
     "name": "stderr",
     "output_type": "stream",
     "text": [
      "/Users/jkappler/miniconda3/envs/snowflake/lib/python3.7/site-packages/cma/utilities/utils.py:347: UserWarning: function values with index [7] are not finite but [inf]. (class=CMAEvolutionStrategy method=ask iteration=19)\n",
      "  ')')\n",
      "/Users/jkappler/miniconda3/envs/snowflake/lib/python3.7/site-packages/cma/utilities/utils.py:347: UserWarning: function values with index [5, 8] are not finite but [inf, inf]. (class=CMAEvolutionStrategy method=ask iteration=20)\n",
      "  ')')\n",
      "/Users/jkappler/miniconda3/envs/snowflake/lib/python3.7/site-packages/cma/utilities/utils.py:347: UserWarning: function values with index [1, 3, 4, 6, 9] are not finite but [inf, inf, inf, inf, inf]. (class=CMAEvolutionStrategy method=ask iteration=22)\n",
      "  ')')\n",
      "/Users/jkappler/miniconda3/envs/snowflake/lib/python3.7/site-packages/cma/utilities/utils.py:347: UserWarning: function values with index [1, 4, 7, 9] are not finite but [inf, inf, inf, inf]. (class=CMAEvolutionStrategy method=ask iteration=23)\n",
      "  ')')\n",
      "/Users/jkappler/miniconda3/envs/snowflake/lib/python3.7/site-packages/cma/utilities/utils.py:347: UserWarning: function values with index [0, 3, 5, 6, 7, 9, 10, 11] are not finite but [inf, inf, inf, inf, inf, inf, inf, inf]. (class=CMAEvolutionStrategy method=ask iteration=24)\n",
      "  ')')\n",
      "/Users/jkappler/miniconda3/envs/snowflake/lib/python3.7/site-packages/cma/utilities/utils.py:347: UserWarning: function values with index [2, 3] are not finite but [inf, inf]. (class=CMAEvolutionStrategy method=ask iteration=25)\n",
      "  ')')\n",
      "/Users/jkappler/miniconda3/envs/snowflake/lib/python3.7/site-packages/cma/utilities/utils.py:347: UserWarning: function values with index [0, 4, 8] are not finite but [inf, inf, inf]. (class=CMAEvolutionStrategy method=ask iteration=26)\n",
      "  ')')\n"
     ]
    },
    {
     "name": "stdout",
     "output_type": "stream",
     "text": [
      "   28    336 3.134878345722300e+31 4.1e+00 3.87e+01  2e+00  8e+00 0:21.1\n"
     ]
    },
    {
     "name": "stderr",
     "output_type": "stream",
     "text": [
      "/Users/jkappler/miniconda3/envs/snowflake/lib/python3.7/site-packages/cma/utilities/utils.py:347: UserWarning: function values with index [0, 1, 2, 3, 4, 5] are not finite but [inf, inf, inf, inf, inf, inf]. (class=CMAEvolutionStrategy method=ask iteration=27)\n",
      "  ')')\n",
      "/Users/jkappler/miniconda3/envs/snowflake/lib/python3.7/site-packages/cma/utilities/utils.py:347: UserWarning: function values with index [0, 9] are not finite but [inf, inf]. (class=CMAEvolutionStrategy method=ask iteration=28)\n",
      "  ')')\n",
      "/Users/jkappler/miniconda3/envs/snowflake/lib/python3.7/site-packages/cma/utilities/utils.py:347: UserWarning: function values with index [6, 9] are not finite but [inf, inf]. (class=CMAEvolutionStrategy method=ask iteration=29)\n",
      "  ')')\n",
      "/Users/jkappler/miniconda3/envs/snowflake/lib/python3.7/site-packages/cma/utilities/utils.py:347: UserWarning: function values with index [2, 5, 8, 10] are not finite but [inf, inf, inf, inf]. (class=CMAEvolutionStrategy method=ask iteration=30)\n",
      "  ')')\n",
      "/Users/jkappler/miniconda3/envs/snowflake/lib/python3.7/site-packages/cma/utilities/utils.py:347: UserWarning: function values with index [2, 3, 4, 5, 7, 10] are not finite but [inf, inf, inf, inf, inf, inf]. (class=CMAEvolutionStrategy method=ask iteration=31)\n",
      "  ')')\n",
      "/Users/jkappler/miniconda3/envs/snowflake/lib/python3.7/site-packages/cma/utilities/utils.py:347: UserWarning: function values with index [1, 2, 7, 8] are not finite but [inf, inf, inf, inf]. (class=CMAEvolutionStrategy method=ask iteration=32)\n",
      "  ')')\n",
      "/Users/jkappler/miniconda3/envs/snowflake/lib/python3.7/site-packages/cma/utilities/utils.py:347: UserWarning: function values with index [1, 3, 7, 8, 11] are not finite but [inf, inf, inf, inf, inf]. (class=CMAEvolutionStrategy method=ask iteration=33)\n",
      "  ')')\n",
      "/Users/jkappler/miniconda3/envs/snowflake/lib/python3.7/site-packages/cma/utilities/utils.py:347: UserWarning: function values with index [6, 8] are not finite but [inf, inf]. (class=CMAEvolutionStrategy method=ask iteration=34)\n",
      "  ')')\n",
      "/Users/jkappler/miniconda3/envs/snowflake/lib/python3.7/site-packages/cma/utilities/utils.py:347: UserWarning: function values with index [0, 2, 5, 8, 10] are not finite but [inf, inf, inf, inf, inf]. (class=CMAEvolutionStrategy method=ask iteration=35)\n",
      "  ')')\n"
     ]
    },
    {
     "name": "stdout",
     "output_type": "stream",
     "text": [
      "   38    456 2.036969994840846e+30 1.1e+01 2.96e+01  3e-01  2e+00 0:28.2\n"
     ]
    },
    {
     "name": "stderr",
     "output_type": "stream",
     "text": [
      "/Users/jkappler/miniconda3/envs/snowflake/lib/python3.7/site-packages/cma/utilities/utils.py:347: UserWarning: function values with index [0, 3, 5, 6] are not finite but [inf, inf, inf, inf]. (class=CMAEvolutionStrategy method=ask iteration=37)\n",
      "  ')')\n",
      "/Users/jkappler/miniconda3/envs/snowflake/lib/python3.7/site-packages/cma/utilities/utils.py:347: UserWarning: function values with index [1, 2, 3, 5, 6, 8, 10, 11] are not finite but [inf, inf, inf, inf, inf, inf, inf, inf]. (class=CMAEvolutionStrategy method=ask iteration=38)\n",
      "  ')')\n",
      "/Users/jkappler/miniconda3/envs/snowflake/lib/python3.7/site-packages/cma/utilities/utils.py:347: UserWarning: function values with index [4, 6] are not finite but [inf, inf]. (class=CMAEvolutionStrategy method=ask iteration=39)\n",
      "  ')')\n",
      "/Users/jkappler/miniconda3/envs/snowflake/lib/python3.7/site-packages/cma/utilities/utils.py:347: UserWarning: function values with index [1, 10] are not finite but [inf, inf]. (class=CMAEvolutionStrategy method=ask iteration=40)\n",
      "  ')')\n",
      "/Users/jkappler/miniconda3/envs/snowflake/lib/python3.7/site-packages/cma/utilities/utils.py:347: UserWarning: function values with index [1, 7, 8, 9, 10, 11] are not finite but [inf, inf, inf, inf, inf, inf]. (class=CMAEvolutionStrategy method=ask iteration=41)\n",
      "  ')')\n",
      "/Users/jkappler/miniconda3/envs/snowflake/lib/python3.7/site-packages/cma/utilities/utils.py:347: UserWarning: function values with index [9] are not finite but [inf]. (class=CMAEvolutionStrategy method=ask iteration=42)\n",
      "  ')')\n",
      "/Users/jkappler/miniconda3/envs/snowflake/lib/python3.7/site-packages/cma/utilities/utils.py:347: UserWarning: function values with index [1, 2, 5, 6] are not finite but [inf, inf, inf, inf]. (class=CMAEvolutionStrategy method=ask iteration=43)\n",
      "  ')')\n",
      "/Users/jkappler/miniconda3/envs/snowflake/lib/python3.7/site-packages/cma/utilities/utils.py:347: UserWarning: function values with index [3, 4, 5, 8] are not finite but [inf, inf, inf, inf]. (class=CMAEvolutionStrategy method=ask iteration=44)\n",
      "  ')')\n",
      "/Users/jkappler/miniconda3/envs/snowflake/lib/python3.7/site-packages/cma/utilities/utils.py:347: UserWarning: function values with index [1, 5, 7, 11] are not finite but [inf, inf, inf, inf]. (class=CMAEvolutionStrategy method=ask iteration=45)\n",
      "  ')')\n",
      "/Users/jkappler/miniconda3/envs/snowflake/lib/python3.7/site-packages/cma/utilities/utils.py:347: UserWarning: function values with index [2, 3, 4, 6, 7, 11] are not finite but [inf, inf, inf, inf, inf, inf]. (class=CMAEvolutionStrategy method=ask iteration=46)\n",
      "  ')')\n",
      "/Users/jkappler/miniconda3/envs/snowflake/lib/python3.7/site-packages/cma/utilities/utils.py:347: UserWarning: function values with index [3, 5, 6, 7] are not finite but [inf, inf, inf, inf]. (class=CMAEvolutionStrategy method=ask iteration=47)\n",
      "  ')')\n",
      "/Users/jkappler/miniconda3/envs/snowflake/lib/python3.7/site-packages/cma/utilities/utils.py:347: UserWarning: function values with index [9] are not finite but [inf]. (class=CMAEvolutionStrategy method=ask iteration=48)\n",
      "  ')')\n",
      "/Users/jkappler/miniconda3/envs/snowflake/lib/python3.7/site-packages/cma/utilities/utils.py:347: UserWarning: function values with index [2, 6, 10, 11] are not finite but [inf, inf, inf, inf]. (class=CMAEvolutionStrategy method=ask iteration=49)\n",
      "  ')')\n"
     ]
    },
    {
     "name": "stdout",
     "output_type": "stream",
     "text": [
      "   51    612 2.013768183762841e+30 5.9e+00 8.44e+00  2e-02  1e-01 0:36.3\n"
     ]
    },
    {
     "name": "stderr",
     "output_type": "stream",
     "text": [
      "/Users/jkappler/miniconda3/envs/snowflake/lib/python3.7/site-packages/cma/utilities/utils.py:347: UserWarning: function values with index [3, 4, 5, 6, 7, 11] are not finite but [inf, inf, inf, inf, inf, inf]. (class=CMAEvolutionStrategy method=ask iteration=50)\n",
      "  ')')\n",
      "/Users/jkappler/miniconda3/envs/snowflake/lib/python3.7/site-packages/cma/utilities/utils.py:347: UserWarning: function values with index [1, 2, 3, 5, 6, 8, 10] are not finite but [inf, inf, inf, inf, inf, inf, inf]. (class=CMAEvolutionStrategy method=ask iteration=52)\n",
      "  ')')\n",
      "/Users/jkappler/miniconda3/envs/snowflake/lib/python3.7/site-packages/cma/utilities/utils.py:347: UserWarning: function values with index [1, 3, 4, 5, 8, 10, 11] are not finite but [inf, inf, inf, inf, inf, inf, inf]. (class=CMAEvolutionStrategy method=ask iteration=54)\n",
      "  ')')\n",
      "/Users/jkappler/miniconda3/envs/snowflake/lib/python3.7/site-packages/cma/utilities/utils.py:347: UserWarning: function values with index [1, 2, 3, 4, 9] are not finite but [inf, inf, inf, inf, inf]. (class=CMAEvolutionStrategy method=ask iteration=55)\n",
      "  ')')\n",
      "/Users/jkappler/miniconda3/envs/snowflake/lib/python3.7/site-packages/cma/utilities/utils.py:347: UserWarning: function values with index [0, 3, 4, 8] are not finite but [inf, inf, inf, inf]. (class=CMAEvolutionStrategy method=ask iteration=56)\n",
      "  ')')\n",
      "/Users/jkappler/miniconda3/envs/snowflake/lib/python3.7/site-packages/cma/utilities/utils.py:347: UserWarning: function values with index [7] are not finite but [inf]. (class=CMAEvolutionStrategy method=ask iteration=57)\n",
      "  ')')\n",
      "/Users/jkappler/miniconda3/envs/snowflake/lib/python3.7/site-packages/cma/utilities/utils.py:347: UserWarning: function values with index [1, 6, 7, 9, 10, 11] are not finite but [inf, inf, inf, inf, inf, inf]. (class=CMAEvolutionStrategy method=ask iteration=58)\n",
      "  ')')\n",
      "/Users/jkappler/miniconda3/envs/snowflake/lib/python3.7/site-packages/cma/utilities/utils.py:347: UserWarning: function values with index [0, 2, 3, 7, 8] are not finite but [inf, inf, inf, inf, inf]. (class=CMAEvolutionStrategy method=ask iteration=59)\n",
      "  ')')\n",
      "/Users/jkappler/miniconda3/envs/snowflake/lib/python3.7/site-packages/cma/utilities/utils.py:347: UserWarning: function values with index [6, 11] are not finite but [inf, inf]. (class=CMAEvolutionStrategy method=ask iteration=60)\n",
      "  ')')\n",
      "/Users/jkappler/miniconda3/envs/snowflake/lib/python3.7/site-packages/cma/utilities/utils.py:347: UserWarning: function values with index [0, 8, 11] are not finite but [inf, inf, inf]. (class=CMAEvolutionStrategy method=ask iteration=61)\n",
      "  ')')\n",
      "/Users/jkappler/miniconda3/envs/snowflake/lib/python3.7/site-packages/cma/utilities/utils.py:347: UserWarning: function values with index [1, 9, 10, 11] are not finite but [inf, inf, inf, inf]. (class=CMAEvolutionStrategy method=ask iteration=62)\n",
      "  ')')\n",
      "/Users/jkappler/miniconda3/envs/snowflake/lib/python3.7/site-packages/cma/utilities/utils.py:347: UserWarning: function values with index [0, 1, 3, 8, 10] are not finite but [inf, inf, inf, inf, inf]. (class=CMAEvolutionStrategy method=ask iteration=63)\n",
      "  ')')\n"
     ]
    },
    {
     "name": "stdout",
     "output_type": "stream",
     "text": [
      "   65    780 1.933732163519756e+30 4.0e+00 4.52e+00  3e-03  1e-02 0:46.0\n"
     ]
    },
    {
     "name": "stderr",
     "output_type": "stream",
     "text": [
      "/Users/jkappler/miniconda3/envs/snowflake/lib/python3.7/site-packages/cma/utilities/utils.py:347: UserWarning: function values with index [2, 7, 9, 11] are not finite but [inf, inf, inf, inf]. (class=CMAEvolutionStrategy method=ask iteration=64)\n",
      "  ')')\n",
      "/Users/jkappler/miniconda3/envs/snowflake/lib/python3.7/site-packages/cma/utilities/utils.py:347: UserWarning: function values with index [3, 4, 6, 8] are not finite but [inf, inf, inf, inf]. (class=CMAEvolutionStrategy method=ask iteration=65)\n",
      "  ')')\n",
      "/Users/jkappler/miniconda3/envs/snowflake/lib/python3.7/site-packages/cma/utilities/utils.py:347: UserWarning: function values with index [4] are not finite but [inf]. (class=CMAEvolutionStrategy method=ask iteration=66)\n",
      "  ')')\n",
      "/Users/jkappler/miniconda3/envs/snowflake/lib/python3.7/site-packages/cma/utilities/utils.py:347: UserWarning: function values with index [4, 5, 6, 7, 11] are not finite but [inf, inf, inf, inf, inf]. (class=CMAEvolutionStrategy method=ask iteration=67)\n",
      "  ')')\n",
      "/Users/jkappler/miniconda3/envs/snowflake/lib/python3.7/site-packages/cma/utilities/utils.py:347: UserWarning: function values with index [0, 3, 4, 8, 11] are not finite but [inf, inf, inf, inf, inf]. (class=CMAEvolutionStrategy method=ask iteration=68)\n",
      "  ')')\n",
      "/Users/jkappler/miniconda3/envs/snowflake/lib/python3.7/site-packages/cma/utilities/utils.py:347: UserWarning: function values with index [5, 6, 7, 9] are not finite but [inf, inf, inf, inf]. (class=CMAEvolutionStrategy method=ask iteration=69)\n",
      "  ')')\n",
      "/Users/jkappler/miniconda3/envs/snowflake/lib/python3.7/site-packages/cma/utilities/utils.py:347: UserWarning: function values with index [2, 4, 5, 8, 9] are not finite but [inf, inf, inf, inf, inf]. (class=CMAEvolutionStrategy method=ask iteration=70)\n",
      "  ')')\n",
      "/Users/jkappler/miniconda3/envs/snowflake/lib/python3.7/site-packages/cma/utilities/utils.py:347: UserWarning: function values with index [2, 8] are not finite but [inf, inf]. (class=CMAEvolutionStrategy method=ask iteration=71)\n",
      "  ')')\n",
      "/Users/jkappler/miniconda3/envs/snowflake/lib/python3.7/site-packages/cma/utilities/utils.py:347: UserWarning: function values with index [0, 6] are not finite but [inf, inf]. (class=CMAEvolutionStrategy method=ask iteration=72)\n",
      "  ')')\n",
      "/Users/jkappler/miniconda3/envs/snowflake/lib/python3.7/site-packages/cma/utilities/utils.py:347: UserWarning: function values with index [0, 1, 4, 6, 10] are not finite but [inf, inf, inf, inf, inf]. (class=CMAEvolutionStrategy method=ask iteration=73)\n",
      "  ')')\n",
      "/Users/jkappler/miniconda3/envs/snowflake/lib/python3.7/site-packages/cma/utilities/utils.py:347: UserWarning: function values with index [1, 2, 3, 6, 7, 11] are not finite but [inf, inf, inf, inf, inf, inf]. (class=CMAEvolutionStrategy method=ask iteration=74)\n",
      "  ')')\n",
      "/Users/jkappler/miniconda3/envs/snowflake/lib/python3.7/site-packages/cma/utilities/utils.py:347: UserWarning: function values with index [11] are not finite but [inf]. (class=CMAEvolutionStrategy method=ask iteration=75)\n",
      "  ')')\n",
      "/Users/jkappler/miniconda3/envs/snowflake/lib/python3.7/site-packages/cma/utilities/utils.py:347: UserWarning: function values with index [5, 7, 10] are not finite but [inf, inf, inf]. (class=CMAEvolutionStrategy method=ask iteration=76)\n",
      "  ')')\n",
      "/Users/jkappler/miniconda3/envs/snowflake/lib/python3.7/site-packages/cma/utilities/utils.py:347: UserWarning: function values with index [3, 4, 5, 6, 8, 10] are not finite but [inf, inf, inf, inf, inf, inf]. (class=CMAEvolutionStrategy method=ask iteration=77)\n",
      "  ')')\n",
      "/Users/jkappler/miniconda3/envs/snowflake/lib/python3.7/site-packages/cma/utilities/utils.py:347: UserWarning: function values with index [3, 4, 7] are not finite but [inf, inf, inf]. (class=CMAEvolutionStrategy method=ask iteration=78)\n",
      "  ')')\n"
     ]
    },
    {
     "name": "stdout",
     "output_type": "stream",
     "text": [
      "   80    960 1.931574042154157e+30 1.5e+00 1.28e+00  2e-04  2e-04 0:56.6\n"
     ]
    },
    {
     "name": "stderr",
     "output_type": "stream",
     "text": [
      "/Users/jkappler/miniconda3/envs/snowflake/lib/python3.7/site-packages/cma/utilities/utils.py:347: UserWarning: function values with index [0, 4, 6, 11] are not finite but [inf, inf, inf, inf]. (class=CMAEvolutionStrategy method=ask iteration=79)\n",
      "  ')')\n",
      "/Users/jkappler/miniconda3/envs/snowflake/lib/python3.7/site-packages/cma/utilities/utils.py:347: UserWarning: function values with index [0, 3, 7, 9, 10, 11] are not finite but [inf, inf, inf, inf, inf, inf]. (class=CMAEvolutionStrategy method=ask iteration=80)\n",
      "  ')')\n",
      "/Users/jkappler/miniconda3/envs/snowflake/lib/python3.7/site-packages/cma/utilities/utils.py:347: UserWarning: function values with index [3, 9, 10] are not finite but [inf, inf, inf]. (class=CMAEvolutionStrategy method=ask iteration=81)\n",
      "  ')')\n",
      "/Users/jkappler/miniconda3/envs/snowflake/lib/python3.7/site-packages/cma/utilities/utils.py:347: UserWarning: function values with index [0, 2, 5, 6, 7, 11] are not finite but [inf, inf, inf, inf, inf, inf]. (class=CMAEvolutionStrategy method=ask iteration=83)\n",
      "  ')')\n",
      "/Users/jkappler/miniconda3/envs/snowflake/lib/python3.7/site-packages/cma/utilities/utils.py:347: UserWarning: function values with index [1, 3, 5, 6] are not finite but [inf, inf, inf, inf]. (class=CMAEvolutionStrategy method=ask iteration=84)\n",
      "  ')')\n",
      "/Users/jkappler/miniconda3/envs/snowflake/lib/python3.7/site-packages/cma/utilities/utils.py:347: UserWarning: function values with index [8] are not finite but [inf]. (class=CMAEvolutionStrategy method=ask iteration=85)\n",
      "  ')')\n",
      "/Users/jkappler/miniconda3/envs/snowflake/lib/python3.7/site-packages/cma/utilities/utils.py:347: UserWarning: function values with index [0, 1, 4, 5, 6, 8, 10] are not finite but [inf, inf, inf, inf, inf, inf, inf]. (class=CMAEvolutionStrategy method=ask iteration=86)\n",
      "  ')')\n",
      "/Users/jkappler/miniconda3/envs/snowflake/lib/python3.7/site-packages/cma/utilities/utils.py:347: UserWarning: function values with index [1, 2, 6, 7, 9, 10] are not finite but [inf, inf, inf, inf, inf, inf]. (class=CMAEvolutionStrategy method=ask iteration=87)\n",
      "  ')')\n",
      "/Users/jkappler/miniconda3/envs/snowflake/lib/python3.7/site-packages/cma/utilities/utils.py:347: UserWarning: function values with index [4, 6, 8, 9] are not finite but [inf, inf, inf, inf]. (class=CMAEvolutionStrategy method=ask iteration=88)\n",
      "  ')')\n",
      "/Users/jkappler/miniconda3/envs/snowflake/lib/python3.7/site-packages/cma/utilities/utils.py:347: UserWarning: function values with index [0, 9] are not finite but [inf, inf]. (class=CMAEvolutionStrategy method=ask iteration=89)\n",
      "  ')')\n",
      "/Users/jkappler/miniconda3/envs/snowflake/lib/python3.7/site-packages/cma/utilities/utils.py:347: UserWarning: function values with index [2] are not finite but [inf]. (class=CMAEvolutionStrategy method=ask iteration=90)\n",
      "  ')')\n",
      "/Users/jkappler/miniconda3/envs/snowflake/lib/python3.7/site-packages/cma/utilities/utils.py:347: UserWarning: function values with index [0, 1, 3, 4, 11] are not finite but [inf, inf, inf, inf, inf]. (class=CMAEvolutionStrategy method=ask iteration=91)\n",
      "  ')')\n",
      "/Users/jkappler/miniconda3/envs/snowflake/lib/python3.7/site-packages/cma/utilities/utils.py:347: UserWarning: function values with index [0, 1, 2, 4, 7, 8, 10] are not finite but [inf, inf, inf, inf, inf, inf, inf]. (class=CMAEvolutionStrategy method=ask iteration=92)\n",
      "  ')')\n",
      "/Users/jkappler/miniconda3/envs/snowflake/lib/python3.7/site-packages/cma/utilities/utils.py:347: UserWarning: function values with index [1, 4, 6, 7, 10] are not finite but [inf, inf, inf, inf, inf]. (class=CMAEvolutionStrategy method=ask iteration=93)\n",
      "  ')')\n"
     ]
    },
    {
     "name": "stdout",
     "output_type": "stream",
     "text": [
      "   95   1140 1.931418013154575e+30 2.3e+00 9.00e-01  2e-05  6e-05 1:07.9\n"
     ]
    },
    {
     "name": "stderr",
     "output_type": "stream",
     "text": [
      "/Users/jkappler/miniconda3/envs/snowflake/lib/python3.7/site-packages/cma/utilities/utils.py:347: UserWarning: function values with index [2, 4, 7, 10] are not finite but [inf, inf, inf, inf]. (class=CMAEvolutionStrategy method=ask iteration=94)\n",
      "  ')')\n",
      "/Users/jkappler/miniconda3/envs/snowflake/lib/python3.7/site-packages/cma/utilities/utils.py:347: UserWarning: function values with index [3, 5, 9, 10] are not finite but [inf, inf, inf, inf]. (class=CMAEvolutionStrategy method=ask iteration=95)\n",
      "  ')')\n",
      "/Users/jkappler/miniconda3/envs/snowflake/lib/python3.7/site-packages/cma/utilities/utils.py:347: UserWarning: function values with index [3, 10] are not finite but [inf, inf]. (class=CMAEvolutionStrategy method=ask iteration=96)\n",
      "  ')')\n",
      "/Users/jkappler/miniconda3/envs/snowflake/lib/python3.7/site-packages/cma/utilities/utils.py:347: UserWarning: function values with index [2, 3, 6, 8] are not finite but [inf, inf, inf, inf]. (class=CMAEvolutionStrategy method=ask iteration=97)\n",
      "  ')')\n"
     ]
    },
    {
     "name": "stdout",
     "output_type": "stream",
     "text": [
      "  100   1200 1.931415520748948e+30 2.9e+00 6.51e-01  7e-06  2e-05 1:12.1\n"
     ]
    },
    {
     "name": "stderr",
     "output_type": "stream",
     "text": [
      "/Users/jkappler/miniconda3/envs/snowflake/lib/python3.7/site-packages/cma/utilities/utils.py:347: UserWarning: function values with index [1, 2, 3, 4, 7, 10, 11] are not finite but [inf, inf, inf, inf, inf, inf, inf]. (class=CMAEvolutionStrategy method=ask iteration=99)\n",
      "  ')')\n",
      "/Users/jkappler/miniconda3/envs/snowflake/lib/python3.7/site-packages/cma/utilities/utils.py:347: UserWarning: function values with index [1, 7, 9] are not finite but [inf, inf, inf]. (class=CMAEvolutionStrategy method=ask iteration=100)\n",
      "  ')')\n",
      "/Users/jkappler/miniconda3/envs/snowflake/lib/python3.7/site-packages/cma/utilities/utils.py:347: UserWarning: function values with index [0, 1, 4, 6, 7, 11] are not finite but [inf, inf, inf, inf, inf, inf]. (class=CMAEvolutionStrategy method=ask iteration=101)\n",
      "  ')')\n",
      "/Users/jkappler/miniconda3/envs/snowflake/lib/python3.7/site-packages/cma/utilities/utils.py:347: UserWarning: function values with index [4, 8] are not finite but [inf, inf]. (class=CMAEvolutionStrategy method=ask iteration=102)\n",
      "  ')')\n",
      "/Users/jkappler/miniconda3/envs/snowflake/lib/python3.7/site-packages/cma/utilities/utils.py:347: UserWarning: function values with index [0, 1, 2, 9] are not finite but [inf, inf, inf, inf]. (class=CMAEvolutionStrategy method=ask iteration=103)\n",
      "  ')')\n",
      "/Users/jkappler/miniconda3/envs/snowflake/lib/python3.7/site-packages/cma/utilities/utils.py:347: UserWarning: function values with index [4, 7] are not finite but [inf, inf]. (class=CMAEvolutionStrategy method=ask iteration=104)\n",
      "  ')')\n",
      "/Users/jkappler/miniconda3/envs/snowflake/lib/python3.7/site-packages/cma/utilities/utils.py:347: UserWarning: function values with index [3, 4, 6, 7, 9] are not finite but [inf, inf, inf, inf, inf]. (class=CMAEvolutionStrategy method=ask iteration=105)\n",
      "  ')')\n",
      "/Users/jkappler/miniconda3/envs/snowflake/lib/python3.7/site-packages/cma/utilities/utils.py:347: UserWarning: function values with index [10] are not finite but [inf]. (class=CMAEvolutionStrategy method=ask iteration=106)\n",
      "  ')')\n",
      "/Users/jkappler/miniconda3/envs/snowflake/lib/python3.7/site-packages/cma/utilities/utils.py:347: UserWarning: function values with index [5] are not finite but [inf]. (class=CMAEvolutionStrategy method=ask iteration=107)\n",
      "  ')')\n",
      "/Users/jkappler/miniconda3/envs/snowflake/lib/python3.7/site-packages/cma/utilities/utils.py:347: UserWarning: function values with index [2, 3, 4, 9, 11] are not finite but [inf, inf, inf, inf, inf]. (class=CMAEvolutionStrategy method=ask iteration=108)\n",
      "  ')')\n",
      "/Users/jkappler/miniconda3/envs/snowflake/lib/python3.7/site-packages/cma/utilities/utils.py:347: UserWarning: function values with index [7, 11] are not finite but [inf, inf]. (class=CMAEvolutionStrategy method=ask iteration=109)\n",
      "  ')')\n",
      "/Users/jkappler/miniconda3/envs/snowflake/lib/python3.7/site-packages/cma/utilities/utils.py:347: UserWarning: function values with index [1, 4, 9] are not finite but [inf, inf, inf]. (class=CMAEvolutionStrategy method=ask iteration=110)\n",
      "  ')')\n",
      "/Users/jkappler/miniconda3/envs/snowflake/lib/python3.7/site-packages/cma/utilities/utils.py:347: UserWarning: function values with index [3, 6, 9] are not finite but [inf, inf, inf]. (class=CMAEvolutionStrategy method=ask iteration=111)\n",
      "  ')')\n",
      "/Users/jkappler/miniconda3/envs/snowflake/lib/python3.7/site-packages/cma/utilities/utils.py:347: UserWarning: function values with index [2] are not finite but [inf]. (class=CMAEvolutionStrategy method=ask iteration=112)\n",
      "  ')')\n",
      "/Users/jkappler/miniconda3/envs/snowflake/lib/python3.7/site-packages/cma/utilities/utils.py:347: UserWarning: function values with index [1, 9] are not finite but [inf, inf]. (class=CMAEvolutionStrategy method=ask iteration=113)\n",
      "  ')')\n",
      "/Users/jkappler/miniconda3/envs/snowflake/lib/python3.7/site-packages/cma/utilities/utils.py:347: UserWarning: function values with index [0, 1, 3, 6, 9] are not finite but [inf, inf, inf, inf, inf]. (class=CMAEvolutionStrategy method=ask iteration=114)\n",
      "  ')')\n",
      "/Users/jkappler/miniconda3/envs/snowflake/lib/python3.7/site-packages/cma/utilities/utils.py:347: UserWarning: function values with index [3] are not finite but [inf]. (class=CMAEvolutionStrategy method=ask iteration=115)\n",
      "  ')')\n"
     ]
    },
    {
     "name": "stdout",
     "output_type": "stream",
     "text": [
      "  117   1404 1.931399511851480e+30 3.6e+00 4.52e-01  6e-07  3e-06 1:25.6\n"
     ]
    },
    {
     "name": "stderr",
     "output_type": "stream",
     "text": [
      "/Users/jkappler/miniconda3/envs/snowflake/lib/python3.7/site-packages/cma/utilities/utils.py:347: UserWarning: function values with index [1, 3, 4, 5, 7, 8] are not finite but [inf, inf, inf, inf, inf, inf]. (class=CMAEvolutionStrategy method=ask iteration=116)\n",
      "  ')')\n",
      "/Users/jkappler/miniconda3/envs/snowflake/lib/python3.7/site-packages/cma/utilities/utils.py:347: UserWarning: function values with index [1, 3, 8] are not finite but [inf, inf, inf]. (class=CMAEvolutionStrategy method=ask iteration=117)\n",
      "  ')')\n",
      "/Users/jkappler/miniconda3/envs/snowflake/lib/python3.7/site-packages/cma/utilities/utils.py:347: UserWarning: function values with index [2, 4] are not finite but [inf, inf]. (class=CMAEvolutionStrategy method=ask iteration=118)\n",
      "  ')')\n",
      "/Users/jkappler/miniconda3/envs/snowflake/lib/python3.7/site-packages/cma/utilities/utils.py:347: UserWarning: function values with index [5, 6, 7, 8, 9, 10] are not finite but [inf, inf, inf, inf, inf, inf]. (class=CMAEvolutionStrategy method=ask iteration=119)\n",
      "  ')')\n",
      "/Users/jkappler/miniconda3/envs/snowflake/lib/python3.7/site-packages/cma/utilities/utils.py:347: UserWarning: function values with index [1, 7, 8] are not finite but [inf, inf, inf]. (class=CMAEvolutionStrategy method=ask iteration=120)\n",
      "  ')')\n",
      "/Users/jkappler/miniconda3/envs/snowflake/lib/python3.7/site-packages/cma/utilities/utils.py:347: UserWarning: function values with index [4, 7, 8, 9] are not finite but [inf, inf, inf, inf]. (class=CMAEvolutionStrategy method=ask iteration=121)\n",
      "  ')')\n",
      "/Users/jkappler/miniconda3/envs/snowflake/lib/python3.7/site-packages/cma/utilities/utils.py:347: UserWarning: function values with index [0, 2, 7, 10] are not finite but [inf, inf, inf, inf]. (class=CMAEvolutionStrategy method=ask iteration=122)\n",
      "  ')')\n",
      "/Users/jkappler/miniconda3/envs/snowflake/lib/python3.7/site-packages/cma/utilities/utils.py:347: UserWarning: function values with index [11] are not finite but [inf]. (class=CMAEvolutionStrategy method=ask iteration=123)\n",
      "  ')')\n",
      "/Users/jkappler/miniconda3/envs/snowflake/lib/python3.7/site-packages/cma/utilities/utils.py:347: UserWarning: function values with index [4] are not finite but [inf]. (class=CMAEvolutionStrategy method=ask iteration=124)\n",
      "  ')')\n",
      "/Users/jkappler/miniconda3/envs/snowflake/lib/python3.7/site-packages/cma/utilities/utils.py:347: UserWarning: function values with index [4, 5, 9] are not finite but [inf, inf, inf]. (class=CMAEvolutionStrategy method=ask iteration=125)\n",
      "  ')')\n",
      "/Users/jkappler/miniconda3/envs/snowflake/lib/python3.7/site-packages/cma/utilities/utils.py:347: UserWarning: function values with index [3, 8, 9] are not finite but [inf, inf, inf]. (class=CMAEvolutionStrategy method=ask iteration=128)\n",
      "  ')')\n",
      "/Users/jkappler/miniconda3/envs/snowflake/lib/python3.7/site-packages/cma/utilities/utils.py:347: UserWarning: function values with index [0, 10] are not finite but [inf, inf]. (class=CMAEvolutionStrategy method=ask iteration=129)\n",
      "  ')')\n",
      "/Users/jkappler/miniconda3/envs/snowflake/lib/python3.7/site-packages/cma/utilities/utils.py:347: UserWarning: function values with index [3, 5, 7, 8, 10, 11] are not finite but [inf, inf, inf, inf, inf, inf]. (class=CMAEvolutionStrategy method=ask iteration=130)\n",
      "  ')')\n",
      "/Users/jkappler/miniconda3/envs/snowflake/lib/python3.7/site-packages/cma/utilities/utils.py:347: UserWarning: function values with index [1, 6] are not finite but [inf, inf]. (class=CMAEvolutionStrategy method=ask iteration=131)\n",
      "  ')')\n",
      "/Users/jkappler/miniconda3/envs/snowflake/lib/python3.7/site-packages/cma/utilities/utils.py:347: UserWarning: function values with index [0, 1, 3, 4, 5, 6, 8, 9] are not finite but [inf, inf, inf, inf, inf, inf, inf, inf]. (class=CMAEvolutionStrategy method=ask iteration=132)\n",
      "  ')')\n"
     ]
    },
    {
     "name": "stdout",
     "output_type": "stream",
     "text": [
      "  134   1608 1.931397829956174e+30 3.4e+00 1.52e-01  3e-08  1e-07 1:40.1\n"
     ]
    },
    {
     "name": "stderr",
     "output_type": "stream",
     "text": [
      "/Users/jkappler/miniconda3/envs/snowflake/lib/python3.7/site-packages/cma/utilities/utils.py:347: UserWarning: function values with index [10] are not finite but [inf]. (class=CMAEvolutionStrategy method=ask iteration=133)\n",
      "  ')')\n",
      "/Users/jkappler/miniconda3/envs/snowflake/lib/python3.7/site-packages/cma/utilities/utils.py:347: UserWarning: function values with index [1, 2, 10, 11] are not finite but [inf, inf, inf, inf]. (class=CMAEvolutionStrategy method=ask iteration=134)\n",
      "  ')')\n",
      "/Users/jkappler/miniconda3/envs/snowflake/lib/python3.7/site-packages/cma/utilities/utils.py:347: UserWarning: function values with index [1, 2, 3, 4, 6, 9, 10] are not finite but [inf, inf, inf, inf, inf, inf, inf]. (class=CMAEvolutionStrategy method=ask iteration=135)\n",
      "  ')')\n",
      "/Users/jkappler/miniconda3/envs/snowflake/lib/python3.7/site-packages/cma/utilities/utils.py:347: UserWarning: function values with index [0, 3] are not finite but [inf, inf]. (class=CMAEvolutionStrategy method=ask iteration=136)\n",
      "  ')')\n",
      "/Users/jkappler/miniconda3/envs/snowflake/lib/python3.7/site-packages/cma/utilities/utils.py:347: UserWarning: function values with index [1, 3, 5, 7, 8, 9] are not finite but [inf, inf, inf, inf, inf, inf]. (class=CMAEvolutionStrategy method=ask iteration=138)\n",
      "  ')')\n",
      "/Users/jkappler/miniconda3/envs/snowflake/lib/python3.7/site-packages/cma/utilities/utils.py:347: UserWarning: function values with index [3, 4, 8, 10] are not finite but [inf, inf, inf, inf]. (class=CMAEvolutionStrategy method=ask iteration=139)\n",
      "  ')')\n",
      "/Users/jkappler/miniconda3/envs/snowflake/lib/python3.7/site-packages/cma/utilities/utils.py:347: UserWarning: function values with index [0, 10] are not finite but [inf, inf]. (class=CMAEvolutionStrategy method=ask iteration=140)\n",
      "  ')')\n",
      "/Users/jkappler/miniconda3/envs/snowflake/lib/python3.7/site-packages/cma/utilities/utils.py:347: UserWarning: function values with index [1] are not finite but [inf]. (class=CMAEvolutionStrategy method=ask iteration=141)\n",
      "  ')')\n",
      "/Users/jkappler/miniconda3/envs/snowflake/lib/python3.7/site-packages/cma/utilities/utils.py:347: UserWarning: function values with index [0, 4, 7, 9] are not finite but [inf, inf, inf, inf]. (class=CMAEvolutionStrategy method=ask iteration=142)\n",
      "  ')')\n",
      "/Users/jkappler/miniconda3/envs/snowflake/lib/python3.7/site-packages/cma/utilities/utils.py:347: UserWarning: function values with index [1, 2, 3, 4, 5, 6, 8, 11] are not finite but [inf, inf, inf, inf, inf, inf, inf, inf]. (class=CMAEvolutionStrategy method=ask iteration=143)\n",
      "  ')')\n",
      "/Users/jkappler/miniconda3/envs/snowflake/lib/python3.7/site-packages/cma/utilities/utils.py:347: UserWarning: function values with index [10] are not finite but [inf]. (class=CMAEvolutionStrategy method=ask iteration=144)\n",
      "  ')')\n",
      "/Users/jkappler/miniconda3/envs/snowflake/lib/python3.7/site-packages/cma/utilities/utils.py:347: UserWarning: function values with index [0, 1, 4, 7, 8, 10] are not finite but [inf, inf, inf, inf, inf, inf]. (class=CMAEvolutionStrategy method=ask iteration=145)\n",
      "  ')')\n",
      "/Users/jkappler/miniconda3/envs/snowflake/lib/python3.7/site-packages/cma/utilities/utils.py:347: UserWarning: function values with index [5, 11] are not finite but [inf, inf]. (class=CMAEvolutionStrategy method=ask iteration=146)\n",
      "  ')')\n",
      "/Users/jkappler/miniconda3/envs/snowflake/lib/python3.7/site-packages/cma/utilities/utils.py:347: UserWarning: function values with index [1, 6, 8, 10] are not finite but [inf, inf, inf, inf]. (class=CMAEvolutionStrategy method=ask iteration=147)\n",
      "  ')')\n",
      "/Users/jkappler/miniconda3/envs/snowflake/lib/python3.7/site-packages/cma/utilities/utils.py:347: UserWarning: function values with index [1, 3, 4, 5] are not finite but [inf, inf, inf, inf]. (class=CMAEvolutionStrategy method=ask iteration=148)\n",
      "  ')')\n",
      "/Users/jkappler/miniconda3/envs/snowflake/lib/python3.7/site-packages/cma/utilities/utils.py:347: UserWarning: function values with index [4, 7, 11] are not finite but [inf, inf, inf]. (class=CMAEvolutionStrategy method=ask iteration=149)\n",
      "  ')')\n",
      "/Users/jkappler/miniconda3/envs/snowflake/lib/python3.7/site-packages/cma/utilities/utils.py:347: UserWarning: function values with index [0, 5, 6, 7, 11] are not finite but [inf, inf, inf, inf, inf]. (class=CMAEvolutionStrategy method=ask iteration=150)\n",
      "  ')')\n",
      "/Users/jkappler/miniconda3/envs/snowflake/lib/python3.7/site-packages/cma/utilities/utils.py:347: UserWarning: function values with index [0, 4, 10] are not finite but [inf, inf, inf]. (class=CMAEvolutionStrategy method=ask iteration=151)\n",
      "  ')')\n",
      "/Users/jkappler/miniconda3/envs/snowflake/lib/python3.7/site-packages/cma/utilities/utils.py:347: UserWarning: function values with index [6, 10] are not finite but [inf, inf]. (class=CMAEvolutionStrategy method=ask iteration=152)\n",
      "  ')')\n"
     ]
    },
    {
     "name": "stdout",
     "output_type": "stream",
     "text": [
      "  154   1848 1.931397797430898e+30 6.3e+00 2.60e-02  4e-10  2e-09 1:55.5\n"
     ]
    },
    {
     "name": "stderr",
     "output_type": "stream",
     "text": [
      "/Users/jkappler/miniconda3/envs/snowflake/lib/python3.7/site-packages/cma/utilities/utils.py:347: UserWarning: function values with index [7, 8, 9, 10] are not finite but [inf, inf, inf, inf]. (class=CMAEvolutionStrategy method=ask iteration=153)\n",
      "  ')')\n",
      "/Users/jkappler/miniconda3/envs/snowflake/lib/python3.7/site-packages/cma/utilities/utils.py:347: UserWarning: function values with index [1, 2, 4, 9] are not finite but [inf, inf, inf, inf]. (class=CMAEvolutionStrategy method=ask iteration=154)\n",
      "  ')')\n",
      "/Users/jkappler/miniconda3/envs/snowflake/lib/python3.7/site-packages/cma/utilities/utils.py:347: UserWarning: function values with index [0, 1, 6, 9, 11] are not finite but [inf, inf, inf, inf, inf]. (class=CMAEvolutionStrategy method=ask iteration=155)\n",
      "  ')')\n",
      "/Users/jkappler/miniconda3/envs/snowflake/lib/python3.7/site-packages/cma/utilities/utils.py:347: UserWarning: function values with index [2, 10, 11] are not finite but [inf, inf, inf]. (class=CMAEvolutionStrategy method=ask iteration=156)\n",
      "  ')')\n",
      "/Users/jkappler/miniconda3/envs/snowflake/lib/python3.7/site-packages/cma/utilities/utils.py:347: UserWarning: function values with index [0, 5, 8] are not finite but [inf, inf, inf]. (class=CMAEvolutionStrategy method=ask iteration=157)\n",
      "  ')')\n",
      "/Users/jkappler/miniconda3/envs/snowflake/lib/python3.7/site-packages/cma/utilities/utils.py:347: UserWarning: function values with index [7, 8, 11] are not finite but [inf, inf, inf]. (class=CMAEvolutionStrategy method=ask iteration=158)\n",
      "  ')')\n",
      "/Users/jkappler/miniconda3/envs/snowflake/lib/python3.7/site-packages/cma/utilities/utils.py:347: UserWarning: function values with index [0, 5, 7, 8, 9] are not finite but [inf, inf, inf, inf, inf]. (class=CMAEvolutionStrategy method=ask iteration=159)\n",
      "  ')')\n",
      "/Users/jkappler/miniconda3/envs/snowflake/lib/python3.7/site-packages/cma/utilities/utils.py:347: UserWarning: function values with index [7] are not finite but [inf]. (class=CMAEvolutionStrategy method=ask iteration=160)\n",
      "  ')')\n",
      "/Users/jkappler/miniconda3/envs/snowflake/lib/python3.7/site-packages/cma/utilities/utils.py:347: UserWarning: function values with index [2, 4, 8, 9] are not finite but [inf, inf, inf, inf]. (class=CMAEvolutionStrategy method=ask iteration=161)\n",
      "  ')')\n",
      "/Users/jkappler/miniconda3/envs/snowflake/lib/python3.7/site-packages/cma/utilities/utils.py:347: UserWarning: function values with index [0, 3, 4, 10, 11] are not finite but [inf, inf, inf, inf, inf]. (class=CMAEvolutionStrategy method=ask iteration=162)\n",
      "  ')')\n",
      "/Users/jkappler/miniconda3/envs/snowflake/lib/python3.7/site-packages/cma/utilities/utils.py:347: UserWarning: function values with index [1, 3, 10] are not finite but [inf, inf, inf]. (class=CMAEvolutionStrategy method=ask iteration=163)\n",
      "  ')')\n",
      "/Users/jkappler/miniconda3/envs/snowflake/lib/python3.7/site-packages/cma/utilities/utils.py:347: UserWarning: function values with index [2, 3, 5, 7, 8] are not finite but [inf, inf, inf, inf, inf]. (class=CMAEvolutionStrategy method=ask iteration=164)\n",
      "  ')')\n",
      "/Users/jkappler/miniconda3/envs/snowflake/lib/python3.7/site-packages/cma/utilities/utils.py:347: UserWarning: function values with index [1, 3, 9, 11] are not finite but [inf, inf, inf, inf]. (class=CMAEvolutionStrategy method=ask iteration=165)\n",
      "  ')')\n",
      "/Users/jkappler/miniconda3/envs/snowflake/lib/python3.7/site-packages/cma/utilities/utils.py:347: UserWarning: function values with index [6] are not finite but [inf]. (class=CMAEvolutionStrategy method=ask iteration=166)\n",
      "  ')')\n",
      "/Users/jkappler/miniconda3/envs/snowflake/lib/python3.7/site-packages/cma/utilities/utils.py:347: UserWarning: function values with index [4, 5, 7] are not finite but [inf, inf, inf]. (class=CMAEvolutionStrategy method=ask iteration=167)\n",
      "  ')')\n",
      "/Users/jkappler/miniconda3/envs/snowflake/lib/python3.7/site-packages/cma/utilities/utils.py:347: UserWarning: function values with index [0, 1, 2, 4, 6, 8, 9, 11] are not finite but [inf, inf, inf, inf, inf, inf, inf, inf]. (class=CMAEvolutionStrategy method=ask iteration=168)\n",
      "  ')')\n",
      "/Users/jkappler/miniconda3/envs/snowflake/lib/python3.7/site-packages/cma/utilities/utils.py:347: UserWarning: function values with index [2, 3, 7] are not finite but [inf, inf, inf]. (class=CMAEvolutionStrategy method=ask iteration=169)\n",
      "  ')')\n",
      "/Users/jkappler/miniconda3/envs/snowflake/lib/python3.7/site-packages/cma/utilities/utils.py:347: UserWarning: function values with index [1, 3, 4, 7, 8, 10, 11] are not finite but [inf, inf, inf, inf, inf, inf, inf]. (class=CMAEvolutionStrategy method=ask iteration=170)\n",
      "  ')')\n",
      "/Users/jkappler/miniconda3/envs/snowflake/lib/python3.7/site-packages/cma/utilities/utils.py:347: UserWarning: function values with index [11] are not finite but [inf]. (class=CMAEvolutionStrategy method=ask iteration=172)\n",
      "  ')')\n"
     ]
    },
    {
     "name": "stdout",
     "output_type": "stream",
     "text": [
      "  174   2088 1.931397796325793e+30 3.3e+00 8.72e-03  2e-11  5e-11 2:11.6\n"
     ]
    },
    {
     "name": "stderr",
     "output_type": "stream",
     "text": [
      "/Users/jkappler/miniconda3/envs/snowflake/lib/python3.7/site-packages/cma/utilities/utils.py:347: UserWarning: function values with index [2, 3, 11] are not finite but [inf, inf, inf]. (class=CMAEvolutionStrategy method=ask iteration=174)\n",
      "  ')')\n",
      "/Users/jkappler/miniconda3/envs/snowflake/lib/python3.7/site-packages/cma/utilities/utils.py:347: UserWarning: function values with index [1] are not finite but [inf]. (class=CMAEvolutionStrategy method=ask iteration=175)\n",
      "  ')')\n",
      "/Users/jkappler/miniconda3/envs/snowflake/lib/python3.7/site-packages/cma/utilities/utils.py:347: UserWarning: function values with index [0, 10] are not finite but [inf, inf]. (class=CMAEvolutionStrategy method=ask iteration=176)\n",
      "  ')')\n",
      "/Users/jkappler/miniconda3/envs/snowflake/lib/python3.7/site-packages/cma/utilities/utils.py:347: UserWarning: function values with index [0, 1, 2, 3, 4, 5, 9] are not finite but [inf, inf, inf, inf, inf, inf, inf]. (class=CMAEvolutionStrategy method=ask iteration=177)\n",
      "  ')')\n",
      "/Users/jkappler/miniconda3/envs/snowflake/lib/python3.7/site-packages/cma/utilities/utils.py:347: UserWarning: function values with index [3] are not finite but [inf]. (class=CMAEvolutionStrategy method=ask iteration=178)\n",
      "  ')')\n",
      "/Users/jkappler/miniconda3/envs/snowflake/lib/python3.7/site-packages/cma/utilities/utils.py:347: UserWarning: function values with index [0, 2, 4, 5, 7, 9] are not finite but [inf, inf, inf, inf, inf, inf]. (class=CMAEvolutionStrategy method=ask iteration=179)\n",
      "  ')')\n",
      "/Users/jkappler/miniconda3/envs/snowflake/lib/python3.7/site-packages/cma/utilities/utils.py:347: UserWarning: function values with index [8, 9] are not finite but [inf, inf]. (class=CMAEvolutionStrategy method=ask iteration=180)\n",
      "  ')')\n",
      "/Users/jkappler/miniconda3/envs/snowflake/lib/python3.7/site-packages/cma/utilities/utils.py:347: UserWarning: function values with index [1, 4, 9] are not finite but [inf, inf, inf]. (class=CMAEvolutionStrategy method=ask iteration=181)\n",
      "  ')')\n",
      "/Users/jkappler/miniconda3/envs/snowflake/lib/python3.7/site-packages/cma/utilities/utils.py:347: UserWarning: function values with index [0, 4, 9, 10] are not finite but [inf, inf, inf, inf]. (class=CMAEvolutionStrategy method=ask iteration=182)\n",
      "  ')')\n",
      "/Users/jkappler/miniconda3/envs/snowflake/lib/python3.7/site-packages/cma/utilities/utils.py:347: UserWarning: function values with index [0, 1, 3] are not finite but [inf, inf, inf]. (class=CMAEvolutionStrategy method=ask iteration=183)\n",
      "  ')')\n",
      "/Users/jkappler/miniconda3/envs/snowflake/lib/python3.7/site-packages/cma/utilities/utils.py:347: UserWarning: function values with index [0, 2, 3, 4, 5, 6, 7, 8, 10] are not finite but [inf, inf, inf, inf, inf, inf, inf, inf, inf]. (class=CMAEvolutionStrategy method=ask iteration=184)\n",
      "  ')')\n",
      "/Users/jkappler/miniconda3/envs/snowflake/lib/python3.7/site-packages/cma/utilities/utils.py:347: UserWarning: function values with index [0, 4, 8, 9] are not finite but [inf, inf, inf, inf]. (class=CMAEvolutionStrategy method=ask iteration=185)\n",
      "  ')')\n",
      "/Users/jkappler/miniconda3/envs/snowflake/lib/python3.7/site-packages/cma/utilities/utils.py:347: UserWarning: function values with index [0, 1, 2, 7, 8, 10, 11] are not finite but [inf, inf, inf, inf, inf, inf, inf]. (class=CMAEvolutionStrategy method=ask iteration=186)\n",
      "  ')')\n",
      "/Users/jkappler/miniconda3/envs/snowflake/lib/python3.7/site-packages/cma/utilities/utils.py:347: UserWarning: function values with index [0, 6, 9, 11] are not finite but [inf, inf, inf, inf]. (class=CMAEvolutionStrategy method=ask iteration=187)\n",
      "  ')')\n"
     ]
    },
    {
     "name": "stdout",
     "output_type": "stream",
     "text": [
      "  189   2268 1.931397796272676e+30 5.9e+00 5.54e-03  2e-12  9e-12 2:24.1\n"
     ]
    },
    {
     "name": "stderr",
     "output_type": "stream",
     "text": [
      "/Users/jkappler/miniconda3/envs/snowflake/lib/python3.7/site-packages/cma/utilities/utils.py:347: UserWarning: function values with index [3, 4, 5] are not finite but [inf, inf, inf]. (class=CMAEvolutionStrategy method=ask iteration=188)\n",
      "  ')')\n"
     ]
    }
   ],
   "source": [
    "from multiprocessing import Pool \n",
    "import cma\n",
    "import time\n",
    "\n",
    "number_of_threads = 4\n",
    "number_iterations = 1000\n",
    "p = Pool(number_of_threads)\n",
    "\n",
    "options = cma.CMAOptions()\n",
    "options['popsize'] = 12\n",
    "\n",
    "from functools import partial\n",
    "\n",
    "number_iterations = 1000\n",
    "prefactor_mortality_costs = np.array( [1.] )\n",
    "rate_economic_costs = np.array( [0.000001,0.001,1.] )\n",
    "Initial_conditions =[ [170,1000.],\n",
    "                      [170,400.],\n",
    "                     [170,400.]]\n",
    "\n",
    "model = pyross.control.SEAI5R(parameters, M, Ni)\n",
    "\n",
    "run_minimisation = True\n",
    "if run_minimisation:\n",
    "    optimal_protocols = np.zeros([len(prefactor_mortality_costs),len(rate_economic_costs),2],dtype=float)\n",
    "    for i,prefactor_mortality_cost in enumerate(prefactor_mortality_costs):\n",
    "        for j,rate_economic_cost in enumerate(rate_economic_costs):\n",
    "            print(prefactor_mortality_cost,rate_economic_cost)\n",
    "            optim = cma.CMAEvolutionStrategy(Initial_conditions[j], 1., options)\n",
    "            iteration = 0\n",
    "            while not optim.stop() and iteration < number_iterations:\n",
    "                positions = optim.ask()\n",
    "                func = partial(minimizing_function, prefactor_mortality_cost, rate_economic_cost)\n",
    "                values = p.map(func, positions)\n",
    "                optim.tell(positions, values)\n",
    "                optim.disp()\n",
    "                iteration += 1\n",
    "            optimal_protocols[i,j] = optim.best.x\n",
    "    np.save('optimal_protocols.npy',optimal_protocols)\n",
    "    np.save('prefactor_mortality_costs.npy',prefactor_mortality_costs)\n",
    "    np.save('rate_economic_costs.npy',rate_economic_costs)\n",
    "else:\n",
    "    optimal_protocols = np.load('optimal_protocols.npy')\n",
    "    prefactor_mortality_costs = np.load('prefactor_mortality_costs.npy')\n",
    "    rate_economic_costs = np.load('rate_economic_costs.npy')"
   ]
  },
  {
   "cell_type": "markdown",
   "metadata": {},
   "source": [
    "**Note: The warnings in the above cell that the cost function evaluates to infinity are expected. We explicitly defined the cost function so that it returns infinity if a hard constraint is violated, so that a warning during minimisation simply means that the minimiser is probing a protocol which violates a hard constraint.**"
   ]
  },
  {
   "cell_type": "code",
   "execution_count": 13,
   "metadata": {},
   "outputs": [],
   "source": [
    "list_of_trajectories = []\n",
    "for i,e in enumerate(prefactor_mortality_costs):\n",
    "    cur_list = []\n",
    "    for j,f in enumerate(rate_economic_costs):\n",
    "        #\n",
    "        events, contactMatrices = get_events(optimal_protocols[i,j])\n",
    "        #\n",
    "        cost, t_arr, traj, events_occured = evaluate_cost_of_protocol(model=model,\n",
    "                                             protocol=optimal_protocols[i,j],\n",
    "                                              return_trajectory=True)\n",
    "        #\n",
    "        cur_list.append( [ cost, t_arr, traj, events_occured ] )\n",
    "    list_of_trajectories.append(cur_list)"
   ]
  },
  {
   "cell_type": "markdown",
   "metadata": {},
   "source": [
    "### Visualise results"
   ]
  },
  {
   "cell_type": "code",
   "execution_count": 15,
   "metadata": {},
   "outputs": [
    {
     "name": "stdout",
     "output_type": "stream",
     "text": [
      "Deceased population: 20213\n"
     ]
    },
    {
     "data": {
      "image/png": "[encoded data removed]",
      "text/plain": [
       "<Figure size 432x288 with 1 Axes>"
      ]
     },
     "metadata": {
      "needs_background": "light"
     },
     "output_type": "display_data"
    },
    {
     "name": "stdout",
     "output_type": "stream",
     "text": [
      "Deceased population: 20212\n"
     ]
    },
    {
     "data": {
      "image/png": "[encoded data removed]",
      "text/plain": [
       "<Figure size 432x288 with 1 Axes>"
      ]
     },
     "metadata": {
      "needs_background": "light"
     },
     "output_type": "display_data"
    },
    {
     "name": "stdout",
     "output_type": "stream",
     "text": [
      "Deceased population: 31252\n"
     ]
    },
    {
     "data": {
      "image/png": "[encoded data removed]",
      "text/plain": [
       "<Figure size 432x288 with 1 Axes>"
      ]
     },
     "metadata": {
      "needs_background": "light"
     },
     "output_type": "display_data"
    }
   ],
   "source": [
    "fontsize=20\n",
    "\n",
    "labels = ['Low cost of social distacing',\n",
    "          'Intermediate cost of social distacing',\n",
    "          'High cost of social distacing']\n",
    "for i,e in enumerate(list_of_trajectories[0]):\n",
    "    #\n",
    "    cost, t_arr, traj, events_occured = e\n",
    "    print('Deceased population: {0:3.0f}'.format(np.sum(traj[7*M:8*M,-1],axis=0)))\n",
    "    #\n",
    "    for j,e in enumerate(events_occured):\n",
    "        #print(e)\n",
    "        if e[1] == 1:\n",
    "            lockdown_start = e[0] \n",
    "        if e[1] == 2:\n",
    "            lockdown_release_1 = e[0]\n",
    "        if e[1] == 3:\n",
    "            lockdown_release_2 = e[0]\n",
    "    #\n",
    "    fig,ax = plt.subplots(1,1,figsize=(6,4))\n",
    "    ax.set_title(labels[i],fontsize=20,y=1.05)\n",
    "    ax.axhline(4500,label='ICU capacity',color='red',lw=3,\n",
    "              ls='--')\n",
    "    ax.axvspan(lockdown_start,lockdown_release_1,\n",
    "               label='Full lockdown',\n",
    "              alpha=0.2,color='crimson')\n",
    "    ax.axvspan(lockdown_release_1,lockdown_release_2,\n",
    "                              label='Partial lockdown',\n",
    "              alpha=0.2,color='orange')\n",
    "    ax.plot(t_arr,np.sum(traj[6*M:7*M],axis=0),\n",
    "            label=r'$N_c$',\n",
    "            color='black',\n",
    "            lw=3,\n",
    "           )\n",
    "    ax.set_xlim(0,600)\n",
    "    if i  <2:\n",
    "        ax.legend(loc='upper right',bbox_to_anchor=(1.142,1.0345),\n",
    "                  fontsize=13,framealpha=1.)\n",
    "    elif i == 2:\n",
    "        ax.legend(loc='upper right',bbox_to_anchor=(1.07,1.0343),\n",
    "                  fontsize=13,framealpha=1.)\n",
    "    else:\n",
    "        ax.legend(loc='best',fontsize=13,framealpha=1.)\n",
    "    ax.set_xlabel('time [days]',fontsize=fontsize)\n",
    "    ax.set_ylabel(r'$N_c$',fontsize=fontsize)\n",
    "    plt.show()\n",
    "    #fig.savefig('optimal_protocol_{0}.png'.format(i),bbox_inches='tight',dpi=100)\n",
    "    #fig.savefig('optimal_protocol_{0}.jpg'.format(i),bbox_inches='tight',dpi=200)\n",
    "    plt.close()"
   ]
  },
  {
   "cell_type": "code",
   "execution_count": null,
   "metadata": {},
   "outputs": [],
   "source": []
  },
  {
   "cell_type": "code",
   "execution_count": null,
   "metadata": {},
   "outputs": [],
   "source": []
  }
 ],
 "metadata": {
  "kernelspec": {
   "display_name": "Python 3",
   "language": "python",
   "name": "python3"
  },
  "language_info": {
   "codemirror_mode": {
    "name": "ipython",
    "version": 3
   },
   "file_extension": ".py",
   "mimetype": "text/x-python",
   "name": "python",
   "nbconvert_exporter": "python",
   "pygments_lexer": "ipython3",
   "version": "3.6.9"
  }
 },
 "nbformat": 4,
 "nbformat_minor": 4
}
