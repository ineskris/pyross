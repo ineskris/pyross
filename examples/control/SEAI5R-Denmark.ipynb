{
 "cells": [
  {
   "cell_type": "code",
   "execution_count": 1,
   "metadata": {},
   "outputs": [],
   "source": [
    "%%capture\n",
    "## compile PyRoss for this notebook\n",
    "import os\n",
    "owd = os.getcwd()\n",
    "os.chdir('../../')\n",
    "%run setup.py install\n",
    "os.chdir(owd)\n",
    "%matplotlib inline"
   ]
  },
  {
   "cell_type": "code",
   "execution_count": 2,
   "metadata": {},
   "outputs": [],
   "source": [
    "import numpy as np\n",
    "import matplotlib.pyplot as plt\n",
    "import pyross\n",
    "import pandas as pd\n",
    "import time"
   ]
  },
  {
   "cell_type": "markdown",
   "metadata": {},
   "source": [
    "## Load Denmark age structure and contact matrix"
   ]
  },
  {
   "cell_type": "code",
   "execution_count": 3,
   "metadata": {},
   "outputs": [
    {
     "name": "stdout",
     "output_type": "stream",
     "text": [
      "Age groups are in brackets of 5 (i.e. 0-4, 5-9, 10-14, .. , 75-79).\n",
      "Number of individuals in each bracket:\n",
      "[302353 305513 338779 341219 379522 395469 342443 320132 366147 385944\n",
      " 422585 381360 338039 319145 346572 220374]\n",
      "Total number of individuals: 5505596\n"
     ]
    }
   ],
   "source": [
    "my_data = np.genfromtxt('../data/age_structures/Denmark-2019.csv', delimiter=',', skip_header=1)\n",
    "aM, aF = my_data[:, 1], my_data[:, 2]\n",
    "\n",
    "Ni0=aM+aF;\n",
    "\n",
    "M=16  ## number of age classes\n",
    "\n",
    "Ni = Ni0[:M]\n",
    "N=np.sum(Ni)\n",
    "\n",
    "print(\"Age groups are in brackets of 5 (i.e. 0-4, 5-9, 10-14, .. , 75-79).\")\n",
    "print(\"Number of individuals in each bracket:\")\n",
    "print(Ni.astype('int'))\n",
    "print(\"Total number of individuals: {0}\".format(np.sum(Ni.astype('int'))))"
   ]
  },
  {
   "cell_type": "code",
   "execution_count": 4,
   "metadata": {},
   "outputs": [
    {
     "data": {
      "image/png": "[encoded data removed]",
      "text/plain": [
       "<Figure size 432x288 with 4 Axes>"
      ]
     },
     "metadata": {
      "needs_background": "light"
     },
     "output_type": "display_data"
    }
   ],
   "source": [
    "# Get individual contact matrices\n",
    "CH, CW, CS, CO = pyross.contactMatrix.Denmark()\n",
    "\n",
    "# By default, home, work, school, and others contribute to the contact matrix\n",
    "C = CH + CW + CS + CO\n",
    "\n",
    "# Illustrate the individual contact matrices:\n",
    "fig,aCF =  plt.subplots(2,2);\n",
    "aCF[0][0].pcolor(CH, cmap=plt.cm.get_cmap('GnBu', 10));\n",
    "aCF[0][1].pcolor(CW, cmap=plt.cm.get_cmap('GnBu', 10));\n",
    "aCF[1][0].pcolor(CS, cmap=plt.cm.get_cmap('GnBu', 10));\n",
    "aCF[1][1].pcolor(CO, cmap=plt.cm.get_cmap('GnBu', 10));"
   ]
  },
  {
   "cell_type": "markdown",
   "metadata": {},
   "source": [
    "C is the sum of contributions from contacts at home, workplace, schools and all other public spheres. Using superscripts $H$, $W$, $S$ and $O$ for each of these, we write the contact matrix as\n",
    "$$\n",
    "C_{ij} = C^H_{ij} + C^W_{ij} + C^S_{ij} + C^O_{ij}\n",
    "$$\n",
    "\n",
    "We read in these contact matrices from the data sets provided in the paper *Projecting social contact matrices in 152 countries using contact surveys and demographic data* by Prem et al, sum them to obtain the total contact matrix. We also read in the age distribution of UK obtained from the *Population pyramid* website."
   ]
  },
  {
   "cell_type": "markdown",
   "metadata": {},
   "source": [
    "# Fit with real data"
   ]
  },
  {
   "cell_type": "code",
   "execution_count": 5,
   "metadata": {},
   "outputs": [
    {
     "name": "stdout",
     "output_type": "stream",
     "text": [
      "fatal: destination path 'COVID-19' already exists and is not an empty directory.\r\n"
     ]
    }
   ],
   "source": [
    "# Get the latest data from Johns Hopkins University\n",
    "!git clone https://github.com/CSSEGISandData/COVID-19"
   ]
  },
  {
   "cell_type": "code",
   "execution_count": 6,
   "metadata": {},
   "outputs": [
    {
     "data": {
      "text/html": [
       "<div>\n",
       "<style scoped>\n",
       "    .dataframe tbody tr th:only-of-type {\n",
       "        vertical-align: middle;\n",
       "    }\n",
       "\n",
       "    .dataframe tbody tr th {\n",
       "        vertical-align: top;\n",
       "    }\n",
       "\n",
       "    .dataframe thead th {\n",
       "        text-align: right;\n",
       "    }\n",
       "</style>\n",
       "<table border=\"1\" class=\"dataframe\">\n",
       "  <thead>\n",
       "    <tr style=\"text-align: right;\">\n",
       "      <th></th>\n",
       "      <th>Province/State</th>\n",
       "      <th>Country/Region</th>\n",
       "      <th>Lat</th>\n",
       "      <th>Long</th>\n",
       "      <th>1/22/20</th>\n",
       "      <th>1/23/20</th>\n",
       "      <th>1/24/20</th>\n",
       "      <th>1/25/20</th>\n",
       "      <th>1/26/20</th>\n",
       "      <th>1/27/20</th>\n",
       "      <th>...</th>\n",
       "      <th>5/2/20</th>\n",
       "      <th>5/3/20</th>\n",
       "      <th>5/4/20</th>\n",
       "      <th>5/5/20</th>\n",
       "      <th>5/6/20</th>\n",
       "      <th>5/7/20</th>\n",
       "      <th>5/8/20</th>\n",
       "      <th>5/9/20</th>\n",
       "      <th>5/10/20</th>\n",
       "      <th>5/11/20</th>\n",
       "    </tr>\n",
       "  </thead>\n",
       "  <tbody>\n",
       "    <tr>\n",
       "      <th>0</th>\n",
       "      <td>NaN</td>\n",
       "      <td>Afghanistan</td>\n",
       "      <td>33.0000</td>\n",
       "      <td>65.0000</td>\n",
       "      <td>0</td>\n",
       "      <td>0</td>\n",
       "      <td>0</td>\n",
       "      <td>0</td>\n",
       "      <td>0</td>\n",
       "      <td>0</td>\n",
       "      <td>...</td>\n",
       "      <td>2469</td>\n",
       "      <td>2704</td>\n",
       "      <td>2894</td>\n",
       "      <td>3224</td>\n",
       "      <td>3392</td>\n",
       "      <td>3563</td>\n",
       "      <td>3778</td>\n",
       "      <td>4033</td>\n",
       "      <td>4402</td>\n",
       "      <td>4687</td>\n",
       "    </tr>\n",
       "    <tr>\n",
       "      <th>1</th>\n",
       "      <td>NaN</td>\n",
       "      <td>Albania</td>\n",
       "      <td>41.1533</td>\n",
       "      <td>20.1683</td>\n",
       "      <td>0</td>\n",
       "      <td>0</td>\n",
       "      <td>0</td>\n",
       "      <td>0</td>\n",
       "      <td>0</td>\n",
       "      <td>0</td>\n",
       "      <td>...</td>\n",
       "      <td>789</td>\n",
       "      <td>795</td>\n",
       "      <td>803</td>\n",
       "      <td>820</td>\n",
       "      <td>832</td>\n",
       "      <td>842</td>\n",
       "      <td>850</td>\n",
       "      <td>856</td>\n",
       "      <td>868</td>\n",
       "      <td>872</td>\n",
       "    </tr>\n",
       "    <tr>\n",
       "      <th>2</th>\n",
       "      <td>NaN</td>\n",
       "      <td>Algeria</td>\n",
       "      <td>28.0339</td>\n",
       "      <td>1.6596</td>\n",
       "      <td>0</td>\n",
       "      <td>0</td>\n",
       "      <td>0</td>\n",
       "      <td>0</td>\n",
       "      <td>0</td>\n",
       "      <td>0</td>\n",
       "      <td>...</td>\n",
       "      <td>4295</td>\n",
       "      <td>4474</td>\n",
       "      <td>4648</td>\n",
       "      <td>4838</td>\n",
       "      <td>4997</td>\n",
       "      <td>5182</td>\n",
       "      <td>5369</td>\n",
       "      <td>5558</td>\n",
       "      <td>5723</td>\n",
       "      <td>5891</td>\n",
       "    </tr>\n",
       "    <tr>\n",
       "      <th>3</th>\n",
       "      <td>NaN</td>\n",
       "      <td>Andorra</td>\n",
       "      <td>42.5063</td>\n",
       "      <td>1.5218</td>\n",
       "      <td>0</td>\n",
       "      <td>0</td>\n",
       "      <td>0</td>\n",
       "      <td>0</td>\n",
       "      <td>0</td>\n",
       "      <td>0</td>\n",
       "      <td>...</td>\n",
       "      <td>747</td>\n",
       "      <td>748</td>\n",
       "      <td>750</td>\n",
       "      <td>751</td>\n",
       "      <td>751</td>\n",
       "      <td>752</td>\n",
       "      <td>752</td>\n",
       "      <td>754</td>\n",
       "      <td>755</td>\n",
       "      <td>755</td>\n",
       "    </tr>\n",
       "    <tr>\n",
       "      <th>4</th>\n",
       "      <td>NaN</td>\n",
       "      <td>Angola</td>\n",
       "      <td>-11.2027</td>\n",
       "      <td>17.8739</td>\n",
       "      <td>0</td>\n",
       "      <td>0</td>\n",
       "      <td>0</td>\n",
       "      <td>0</td>\n",
       "      <td>0</td>\n",
       "      <td>0</td>\n",
       "      <td>...</td>\n",
       "      <td>35</td>\n",
       "      <td>35</td>\n",
       "      <td>35</td>\n",
       "      <td>36</td>\n",
       "      <td>36</td>\n",
       "      <td>36</td>\n",
       "      <td>43</td>\n",
       "      <td>43</td>\n",
       "      <td>45</td>\n",
       "      <td>45</td>\n",
       "    </tr>\n",
       "  </tbody>\n",
       "</table>\n",
       "<p>5 rows × 115 columns</p>\n",
       "</div>"
      ],
      "text/plain": [
       "  Province/State Country/Region      Lat     Long  1/22/20  1/23/20  1/24/20  \\\n",
       "0            NaN    Afghanistan  33.0000  65.0000        0        0        0   \n",
       "1            NaN        Albania  41.1533  20.1683        0        0        0   \n",
       "2            NaN        Algeria  28.0339   1.6596        0        0        0   \n",
       "3            NaN        Andorra  42.5063   1.5218        0        0        0   \n",
       "4            NaN         Angola -11.2027  17.8739        0        0        0   \n",
       "\n",
       "   1/25/20  1/26/20  1/27/20  ...  5/2/20  5/3/20  5/4/20  5/5/20  5/6/20  \\\n",
       "0        0        0        0  ...    2469    2704    2894    3224    3392   \n",
       "1        0        0        0  ...     789     795     803     820     832   \n",
       "2        0        0        0  ...    4295    4474    4648    4838    4997   \n",
       "3        0        0        0  ...     747     748     750     751     751   \n",
       "4        0        0        0  ...      35      35      35      36      36   \n",
       "\n",
       "   5/7/20  5/8/20  5/9/20  5/10/20  5/11/20  \n",
       "0    3563    3778    4033     4402     4687  \n",
       "1     842     850     856      868      872  \n",
       "2    5182    5369    5558     5723     5891  \n",
       "3     752     752     754      755      755  \n",
       "4      36      43      43       45       45  \n",
       "\n",
       "[5 rows x 115 columns]"
      ]
     },
     "execution_count": 6,
     "metadata": {},
     "output_type": "execute_result"
    }
   ],
   "source": [
    "cases = pd.read_csv('COVID-19/csse_covid_19_data/csse_covid_19_time_series/time_series_covid19_confirmed_global.csv')\n",
    "cases.head()"
   ]
  },
  {
   "cell_type": "code",
   "execution_count": 7,
   "metadata": {},
   "outputs": [
    {
     "data": {
      "text/plain": [
       "(266, 115)"
      ]
     },
     "execution_count": 7,
     "metadata": {},
     "output_type": "execute_result"
    }
   ],
   "source": [
    "deaths = pd.read_csv('COVID-19/csse_covid_19_data/csse_covid_19_time_series/time_series_covid19_deaths_global.csv')\n",
    "deaths.shape"
   ]
  },
  {
   "cell_type": "code",
   "execution_count": 8,
   "metadata": {},
   "outputs": [
    {
     "data": {
      "image/png": "[encoded data removed]",
      "text/plain": [
       "<Figure size 432x288 with 1 Axes>"
      ]
     },
     "metadata": {
      "needs_background": "light"
     },
     "output_type": "display_data"
    }
   ],
   "source": [
    "cols = cases.columns.tolist() \n",
    "case = cases.loc[94,][4:]\n",
    "death = deaths.loc[94,][4:]\n",
    "plt.scatter(np.arange(len(case)),case, label= 'case',lw=0.01);\n",
    "plt.scatter(np.arange(len(death)),death, label='death', lw=0.1);\n",
    "plt.title('Denmark case/death since January 22')\n",
    "plt.legend();"
   ]
  },
  {
   "cell_type": "markdown",
   "metadata": {},
   "source": [
    "## Using data from the repo (not exactly the same)"
   ]
  },
  {
   "cell_type": "code",
   "execution_count": 9,
   "metadata": {},
   "outputs": [
    {
     "data": {
      "text/html": [
       "<div>\n",
       "<style scoped>\n",
       "    .dataframe tbody tr th:only-of-type {\n",
       "        vertical-align: middle;\n",
       "    }\n",
       "\n",
       "    .dataframe tbody tr th {\n",
       "        vertical-align: top;\n",
       "    }\n",
       "\n",
       "    .dataframe thead th {\n",
       "        text-align: right;\n",
       "    }\n",
       "</style>\n",
       "<table border=\"1\" class=\"dataframe\">\n",
       "  <thead>\n",
       "    <tr style=\"text-align: right;\">\n",
       "      <th></th>\n",
       "      <th>Unnamed: 0</th>\n",
       "      <th>2020-03-13</th>\n",
       "      <th>2020-03-16</th>\n",
       "      <th>2020-03-17</th>\n",
       "      <th>2020-03-18</th>\n",
       "      <th>2020-03-19</th>\n",
       "      <th>2020-03-20</th>\n",
       "      <th>2020-03-21</th>\n",
       "      <th>2020-03-22</th>\n",
       "      <th>2020-03-23</th>\n",
       "      <th>...</th>\n",
       "      <th>2020-04-26</th>\n",
       "      <th>2020-04-27</th>\n",
       "      <th>2020-04-28</th>\n",
       "      <th>2020-04-29</th>\n",
       "      <th>2020-04-30</th>\n",
       "      <th>2020-05-01</th>\n",
       "      <th>2020-05-02</th>\n",
       "      <th>2020-05-03</th>\n",
       "      <th>2020-05-04</th>\n",
       "      <th>2020-05-05</th>\n",
       "    </tr>\n",
       "  </thead>\n",
       "  <tbody>\n",
       "    <tr>\n",
       "      <th>0</th>\n",
       "      <td>0-9</td>\n",
       "      <td>10</td>\n",
       "      <td>12</td>\n",
       "      <td>13</td>\n",
       "      <td>12</td>\n",
       "      <td>13</td>\n",
       "      <td>13</td>\n",
       "      <td>13</td>\n",
       "      <td>13</td>\n",
       "      <td>13</td>\n",
       "      <td>...</td>\n",
       "      <td>108</td>\n",
       "      <td>111</td>\n",
       "      <td>116</td>\n",
       "      <td>120</td>\n",
       "      <td>126</td>\n",
       "      <td>135</td>\n",
       "      <td>139</td>\n",
       "      <td>143</td>\n",
       "      <td>155</td>\n",
       "      <td>168</td>\n",
       "    </tr>\n",
       "    <tr>\n",
       "      <th>1</th>\n",
       "      <td>10-19</td>\n",
       "      <td>30</td>\n",
       "      <td>33</td>\n",
       "      <td>33</td>\n",
       "      <td>33</td>\n",
       "      <td>35</td>\n",
       "      <td>35</td>\n",
       "      <td>35</td>\n",
       "      <td>35</td>\n",
       "      <td>35</td>\n",
       "      <td>...</td>\n",
       "      <td>273</td>\n",
       "      <td>284</td>\n",
       "      <td>298</td>\n",
       "      <td>313</td>\n",
       "      <td>326</td>\n",
       "      <td>336</td>\n",
       "      <td>345</td>\n",
       "      <td>347</td>\n",
       "      <td>363</td>\n",
       "      <td>378</td>\n",
       "    </tr>\n",
       "    <tr>\n",
       "      <th>2</th>\n",
       "      <td>20-29</td>\n",
       "      <td>134</td>\n",
       "      <td>140</td>\n",
       "      <td>142</td>\n",
       "      <td>146</td>\n",
       "      <td>148</td>\n",
       "      <td>153</td>\n",
       "      <td>161</td>\n",
       "      <td>165</td>\n",
       "      <td>167</td>\n",
       "      <td>...</td>\n",
       "      <td>1093</td>\n",
       "      <td>1112</td>\n",
       "      <td>1139</td>\n",
       "      <td>1160</td>\n",
       "      <td>1188</td>\n",
       "      <td>1227</td>\n",
       "      <td>1244</td>\n",
       "      <td>1265</td>\n",
       "      <td>1287</td>\n",
       "      <td>1308</td>\n",
       "    </tr>\n",
       "    <tr>\n",
       "      <th>3</th>\n",
       "      <td>30-39</td>\n",
       "      <td>135</td>\n",
       "      <td>143</td>\n",
       "      <td>147</td>\n",
       "      <td>156</td>\n",
       "      <td>162</td>\n",
       "      <td>170</td>\n",
       "      <td>184</td>\n",
       "      <td>191</td>\n",
       "      <td>193</td>\n",
       "      <td>...</td>\n",
       "      <td>1162</td>\n",
       "      <td>1181</td>\n",
       "      <td>1199</td>\n",
       "      <td>1230</td>\n",
       "      <td>1262</td>\n",
       "      <td>1284</td>\n",
       "      <td>1302</td>\n",
       "      <td>1315</td>\n",
       "      <td>1339</td>\n",
       "      <td>1368</td>\n",
       "    </tr>\n",
       "    <tr>\n",
       "      <th>4</th>\n",
       "      <td>40-49</td>\n",
       "      <td>253</td>\n",
       "      <td>284</td>\n",
       "      <td>294</td>\n",
       "      <td>305</td>\n",
       "      <td>325</td>\n",
       "      <td>345</td>\n",
       "      <td>362</td>\n",
       "      <td>375</td>\n",
       "      <td>386</td>\n",
       "      <td>...</td>\n",
       "      <td>1600</td>\n",
       "      <td>1616</td>\n",
       "      <td>1644</td>\n",
       "      <td>1673</td>\n",
       "      <td>1687</td>\n",
       "      <td>1706</td>\n",
       "      <td>1719</td>\n",
       "      <td>1734</td>\n",
       "      <td>1757</td>\n",
       "      <td>1778</td>\n",
       "    </tr>\n",
       "    <tr>\n",
       "      <th>5</th>\n",
       "      <td>50-59</td>\n",
       "      <td>159</td>\n",
       "      <td>176</td>\n",
       "      <td>186</td>\n",
       "      <td>200</td>\n",
       "      <td>209</td>\n",
       "      <td>224</td>\n",
       "      <td>239</td>\n",
       "      <td>248</td>\n",
       "      <td>254</td>\n",
       "      <td>...</td>\n",
       "      <td>1637</td>\n",
       "      <td>1656</td>\n",
       "      <td>1682</td>\n",
       "      <td>1694</td>\n",
       "      <td>1714</td>\n",
       "      <td>1733</td>\n",
       "      <td>1755</td>\n",
       "      <td>1780</td>\n",
       "      <td>1805</td>\n",
       "      <td>1833</td>\n",
       "    </tr>\n",
       "    <tr>\n",
       "      <th>6</th>\n",
       "      <td>60-69</td>\n",
       "      <td>50</td>\n",
       "      <td>62</td>\n",
       "      <td>70</td>\n",
       "      <td>90</td>\n",
       "      <td>107</td>\n",
       "      <td>127</td>\n",
       "      <td>140</td>\n",
       "      <td>148</td>\n",
       "      <td>156</td>\n",
       "      <td>...</td>\n",
       "      <td>1068</td>\n",
       "      <td>1074</td>\n",
       "      <td>1090</td>\n",
       "      <td>1106</td>\n",
       "      <td>1122</td>\n",
       "      <td>1137</td>\n",
       "      <td>1141</td>\n",
       "      <td>1155</td>\n",
       "      <td>1164</td>\n",
       "      <td>1178</td>\n",
       "    </tr>\n",
       "    <tr>\n",
       "      <th>7</th>\n",
       "      <td>70-79</td>\n",
       "      <td>5</td>\n",
       "      <td>26</td>\n",
       "      <td>39</td>\n",
       "      <td>55</td>\n",
       "      <td>70</td>\n",
       "      <td>82</td>\n",
       "      <td>100</td>\n",
       "      <td>118</td>\n",
       "      <td>132</td>\n",
       "      <td>...</td>\n",
       "      <td>806</td>\n",
       "      <td>819</td>\n",
       "      <td>825</td>\n",
       "      <td>833</td>\n",
       "      <td>842</td>\n",
       "      <td>848</td>\n",
       "      <td>851</td>\n",
       "      <td>864</td>\n",
       "      <td>871</td>\n",
       "      <td>876</td>\n",
       "    </tr>\n",
       "    <tr>\n",
       "      <th>8</th>\n",
       "      <td>80-89</td>\n",
       "      <td>7</td>\n",
       "      <td>18</td>\n",
       "      <td>28</td>\n",
       "      <td>38</td>\n",
       "      <td>51</td>\n",
       "      <td>65</td>\n",
       "      <td>77</td>\n",
       "      <td>87</td>\n",
       "      <td>98</td>\n",
       "      <td>...</td>\n",
       "      <td>628</td>\n",
       "      <td>642</td>\n",
       "      <td>649</td>\n",
       "      <td>666</td>\n",
       "      <td>673</td>\n",
       "      <td>682</td>\n",
       "      <td>685</td>\n",
       "      <td>693</td>\n",
       "      <td>701</td>\n",
       "      <td>706</td>\n",
       "    </tr>\n",
       "    <tr>\n",
       "      <th>9</th>\n",
       "      <td>90+</td>\n",
       "      <td>2</td>\n",
       "      <td>4</td>\n",
       "      <td>8</td>\n",
       "      <td>9</td>\n",
       "      <td>12</td>\n",
       "      <td>12</td>\n",
       "      <td>15</td>\n",
       "      <td>15</td>\n",
       "      <td>16</td>\n",
       "      <td>...</td>\n",
       "      <td>200</td>\n",
       "      <td>203</td>\n",
       "      <td>209</td>\n",
       "      <td>213</td>\n",
       "      <td>218</td>\n",
       "      <td>223</td>\n",
       "      <td>226</td>\n",
       "      <td>227</td>\n",
       "      <td>228</td>\n",
       "      <td>228</td>\n",
       "    </tr>\n",
       "  </tbody>\n",
       "</table>\n",
       "<p>10 rows × 53 columns</p>\n",
       "</div>"
      ],
      "text/plain": [
       "  Unnamed: 0  2020-03-13  2020-03-16  2020-03-17  2020-03-18  2020-03-19  \\\n",
       "0        0-9          10          12          13          12          13   \n",
       "1      10-19          30          33          33          33          35   \n",
       "2      20-29         134         140         142         146         148   \n",
       "3      30-39         135         143         147         156         162   \n",
       "4      40-49         253         284         294         305         325   \n",
       "5      50-59         159         176         186         200         209   \n",
       "6      60-69          50          62          70          90         107   \n",
       "7      70-79           5          26          39          55          70   \n",
       "8      80-89           7          18          28          38          51   \n",
       "9        90+           2           4           8           9          12   \n",
       "\n",
       "   2020-03-20  2020-03-21  2020-03-22  2020-03-23  ...  2020-04-26  \\\n",
       "0          13          13          13          13  ...         108   \n",
       "1          35          35          35          35  ...         273   \n",
       "2         153         161         165         167  ...        1093   \n",
       "3         170         184         191         193  ...        1162   \n",
       "4         345         362         375         386  ...        1600   \n",
       "5         224         239         248         254  ...        1637   \n",
       "6         127         140         148         156  ...        1068   \n",
       "7          82         100         118         132  ...         806   \n",
       "8          65          77          87          98  ...         628   \n",
       "9          12          15          15          16  ...         200   \n",
       "\n",
       "   2020-04-27  2020-04-28  2020-04-29  2020-04-30  2020-05-01  2020-05-02  \\\n",
       "0         111         116         120         126         135         139   \n",
       "1         284         298         313         326         336         345   \n",
       "2        1112        1139        1160        1188        1227        1244   \n",
       "3        1181        1199        1230        1262        1284        1302   \n",
       "4        1616        1644        1673        1687        1706        1719   \n",
       "5        1656        1682        1694        1714        1733        1755   \n",
       "6        1074        1090        1106        1122        1137        1141   \n",
       "7         819         825         833         842         848         851   \n",
       "8         642         649         666         673         682         685   \n",
       "9         203         209         213         218         223         226   \n",
       "\n",
       "   2020-05-03  2020-05-04  2020-05-05  \n",
       "0         143         155         168  \n",
       "1         347         363         378  \n",
       "2        1265        1287        1308  \n",
       "3        1315        1339        1368  \n",
       "4        1734        1757        1778  \n",
       "5        1780        1805        1833  \n",
       "6        1155        1164        1178  \n",
       "7         864         871         876  \n",
       "8         693         701         706  \n",
       "9         227         228         228  \n",
       "\n",
       "[10 rows x 53 columns]"
      ]
     },
     "execution_count": 9,
     "metadata": {},
     "output_type": "execute_result"
    }
   ],
   "source": [
    "denmark_age_structured_case = pd.read_csv('../data/covid-cases/denmark_cases_by_age.csv')\n",
    "denmark_age_structured_case.tail(10)"
   ]
  },
  {
   "cell_type": "code",
   "execution_count": 10,
   "metadata": {},
   "outputs": [],
   "source": [
    "case = denmark_age_structured_case.sum(axis=0)[1:]\n"
   ]
  },
  {
   "cell_type": "markdown",
   "metadata": {},
   "source": [
    "We will use the **infective number** for (52 days) for the initial conditions Is and Ia. "
   ]
  },
  {
   "cell_type": "code",
   "execution_count": 11,
   "metadata": {},
   "outputs": [],
   "source": [
    "## infective people\n",
    "nbday = denmark_age_structured_case.shape[1]-1\n",
    "nbgroup = denmark_age_structured_case.shape[0]\n",
    "I = np.array(np.zeros([nbday, nbgroup-2]))\n",
    "for i in range(1,nbday+1):\n",
    "    I[i-1] = np.array([denmark_age_structured_case.iloc[:,i][:nbgroup-2]])\n",
    "## we don't want a cum sum \n",
    "I[1:] -= I[:-1].copy()\n",
    "I[3,0] = 1\n",
    "##  duplicate for each subgroup of age \n",
    "M = 16\n",
    "Is = np.array(np.zeros([nbday, M]))\n",
    "for i in range(I.shape[0]):\n",
    "    Is[i] = np.array([val for val in I[i]/2 for _ in (0, 1)])\n",
    "\n",
    "## take only integer values, loosing cases !\n",
    "for j in range(Is.shape[0]):\n",
    "    Is[j] = np.array([int(i) for i in Is[j]])"
   ]
  },
  {
   "cell_type": "markdown",
   "metadata": {},
   "source": [
    "##  Define model parameters\n",
    "\n"
   ]
  },
  {
   "cell_type": "code",
   "execution_count": 13,
   "metadata": {},
   "outputs": [],
   "source": [
    "beta  = 0.036692            # infection rate \n",
    "\n",
    "gE    = 1/5.\n",
    "gA    = 1/4.\n",
    "gIa   = 1./3.                # recovery rate of asymptomatic infectives \n",
    "gIs   = 1./7                # recovery rate of symptomatic infectives \n",
    "alpha = 0.4                 # fraction of asymptomatic infectives \n",
    "fsa   = 0.2                 # the self-isolation parameter   \n",
    "fh    = 0\n",
    "gIh   = 1/7\n",
    "gIc   = 1/14\n",
    " \n",
    "sa  = 0*np.ones(M)      #  rate of additional/removal of population by birth etc\n",
    "sa[0]  = 0            # birth\n",
    "sa[3] = 0          # mortality\n",
    "\n",
    "\n",
    "hh   = 0.1*np.ones(M)       # fraction which goes from Is to hospital\n",
    "hh[:M] = 0.01\n",
    "hh[M:2*M] = 0.025\n",
    "cc   = 0.05*np.ones(M)      # fraction which goes from  hospital to ICU \n",
    "mm   = 0.4*np.ones(M)       # mortality from IC\n",
    "\n",
    "\n",
    "# initial conditions    \n",
    "Is_0 = Is[0,]\n",
    "# np.zeros((M)); \n",
    "Ia_0 = Is[0,]\n",
    "# 10*np.ones((M)) # start with 10 asymptomatic infectives\n",
    "\n",
    "\n",
    "R_0  = np.zeros((M))\n",
    "E_0  = np.zeros((M))\n",
    "A_0  = np.zeros((M))\n",
    "Ih_0  = np.zeros((M))\n",
    "Ic_0  = np.zeros((M))\n",
    "Im_0  = np.zeros((M))\n",
    "\n",
    "S_0  = Ni - (E_0 + A_0 + Ia_0 + Is_0 + Ih_0 + Ic_0 +Im_0 + R_0)"
   ]
  },
  {
   "cell_type": "markdown",
   "metadata": {},
   "source": [
    "## Define events for protocol"
   ]
  },
  {
   "cell_type": "code",
   "execution_count": 15,
   "metadata": {},
   "outputs": [],
   "source": [
    "# Dummy event for initial (standard) contact matrix\n",
    "events = [lambda t: 1]\n",
    "contactMatrices = [C]\n",
    "\n",
    "# After 20 days, start lockdown\n",
    "lockdown_threshold_0 = 20\n",
    "def event0(t,rp):\n",
    "    return t - lockdown_threshold_0\n",
    "events.append(event0)\n",
    "contactMatrices.append( CH + 0.1*CW + 0.4*CS )\n",
    "\n",
    "# After 25 days, decrease contacts even further\n",
    "lockdown_threshold_1 = 25\n",
    "def event1(t,rp):\n",
    "    return t- lockdown_threshold_1\n",
    "events.append(event1)\n",
    "contactMatrices.append( CH + 0.1*CW)\n",
    "\n",
    "# After 70 days, add 50% of school contacts to contact matrix\n",
    "lockdown_threshold_2 = 55\n",
    "def event2(t,rp):\n",
    "    return t - lockdown_threshold_2\n",
    "events.append(event2)\n",
    "contactMatrices.append( CH + 0.1*CW + 0.5*CS ) # everybody in lockdown"
   ]
  },
  {
   "cell_type": "markdown",
   "metadata": {},
   "source": [
    "## Simulate protocol and analyse results\n",
    "\n",
    "#### Initialise pyross.control, run and plot a single test simulation"
   ]
  },
  {
   "cell_type": "code",
   "execution_count": 16,
   "metadata": {},
   "outputs": [],
   "source": [
    "# duration of simulation\n",
    "Tf=100;  Nf=Tf+1;  \n",
    "\n",
    "# intantiate model\n",
    "parameters = {'alpha':alpha,'beta':beta, 'gIa':gIa,'gIs':gIs,\n",
    "              'gIh':gIh,'gIc':gIc,  'gE':gE, 'gA':gA,\n",
    "              'fsa':fsa, 'fh':fh, \n",
    "              'sa':sa, \n",
    "              'hh':hh, 'cc':cc, 'mm':mm}\n",
    "model = pyross.control.SEAI5R(parameters, M, Ni.copy())\n",
    "\n",
    "# run model once\n",
    "method='gillespie'\n",
    "data=model.simulate(S_0, E_0, A_0, Ia_0, Is_0, Ih_0, Ic_0, Im_0,\n",
    "                    events,contactMatrices, Tf, Nf,\n",
    "                                method=method)"
   ]
  },
  {
   "cell_type": "code",
   "execution_count": 17,
   "metadata": {},
   "outputs": [
    {
     "data": {
      "image/png": "[encoded data removed]",
      "text/plain": [
       "<Figure size 576x360 with 1 Axes>"
      ]
     },
     "metadata": {
      "needs_background": "light"
     },
     "output_type": "display_data"
    }
   ],
   "source": [
    "t = data['t']; \n",
    "\n",
    "y_plot = np.sum ( data['X'][:,4*M:7*M], axis = -1)\n",
    "\n",
    "\n",
    "lw=2\n",
    "fig,ax = plt.subplots(1,1,figsize=(8,5))\n",
    "ax.plot(t,y_plot,lw=lw,)\n",
    "ax.axvline(data['events_occured'][0][0],\n",
    "           color='crimson',lw=lw,\n",
    "          label='Beginning of lockdown',ls='--')\n",
    "ax.axvline(data['events_occured'][-1][0],\n",
    " color='limegreen',lw=lw,\n",
    "          label='Schools re-opened',ls='--')\n",
    "\n",
    "ax.plot(case, 'o-', lw=4, color='#348ABD', ms=5, label='data', alpha=0.5)\n",
    "\n",
    "\n",
    "ax.set_xlim(0,Tf)\n",
    "fs=20\n",
    "ax.legend(loc='best',fontsize=8,framealpha=1)\n",
    "ax.set_xlabel('time since first infection [days]',fontsize=fs)\n",
    "ax.set_ylabel('Number of known active cases',fontsize=fs)\n",
    "plt.show(fig)\n",
    "\n"
   ]
  },
  {
   "cell_type": "code",
   "execution_count": 18,
   "metadata": {},
   "outputs": [],
   "source": [
    "data_array = data['X']\n",
    "t = data['t']\n",
    "np.save('SEAI5R_latent_traj.npy', data_array)"
   ]
  },
  {
   "cell_type": "markdown",
   "metadata": {},
   "source": [
    "## Infer latent data using first observations for Infected Ind"
   ]
  },
  {
   "cell_type": "code",
   "execution_count": 19,
   "metadata": {},
   "outputs": [
    {
     "data": {
      "text/plain": [
       "(101, 144)"
      ]
     },
     "execution_count": 19,
     "metadata": {},
     "output_type": "execute_result"
    }
   ],
   "source": [
    "# load the data \n",
    "x = np.load('SEAI5R_latent_traj.npy').astype('float') # 9 equations * 16\n",
    "x.shape"
   ]
  },
  {
   "cell_type": "markdown",
   "metadata": {},
   "source": [
    "We force the observed data into x."
   ]
  },
  {
   "cell_type": "code",
   "execution_count": 20,
   "metadata": {},
   "outputs": [],
   "source": [
    "## Is non cumulative - 52 days from the data\n",
    "dayobs = 52\n",
    "# x[:dayobs,3*M:4*M].shape\n",
    "x[:dayobs,3*M:4*M] = Is"
   ]
  },
  {
   "cell_type": "code",
   "execution_count": 21,
   "metadata": {},
   "outputs": [
    {
     "data": {
      "text/plain": [
       "(101, 144)"
      ]
     },
     "execution_count": 21,
     "metadata": {},
     "output_type": "execute_result"
    }
   ],
   "source": [
    "x.shape"
   ]
  },
  {
   "cell_type": "code",
   "execution_count": 22,
   "metadata": {},
   "outputs": [
    {
     "data": {
      "text/plain": [
       "(53, 128)"
      ]
     },
     "execution_count": 22,
     "metadata": {},
     "output_type": "execute_result"
    }
   ],
   "source": [
    "steps = 101 # number internal integration steps taken\n",
    "# obs used for inference \n",
    "Tf_inference = 52\n",
    "Nf_inference = Tf_inference + 1\n",
    "x = x[:Nf_inference,:8*M]/N # remove the last equation only\n",
    "x.shape "
   ]
  },
  {
   "cell_type": "code",
   "execution_count": 23,
   "metadata": {},
   "outputs": [],
   "source": [
    "# fraction of population in Age group\n",
    "fi = Ni/sum(Ni)\n",
    "Ni = N *fi"
   ]
  },
  {
   "cell_type": "code",
   "execution_count": 24,
   "metadata": {},
   "outputs": [],
   "source": [
    "# initialise the estimator \n",
    "estimator = pyross.inference.SEAI5R(parameters, M, fi, int(N), steps)"
   ]
  },
  {
   "cell_type": "code",
   "execution_count": 25,
   "metadata": {},
   "outputs": [
    {
     "data": {
      "text/plain": [
       "(53, 64)"
      ]
     },
     "execution_count": 25,
     "metadata": {},
     "output_type": "execute_result"
    }
   ],
   "source": [
    "## create filter to distinguish between observable classes\n",
    "fltr=np.repeat(np.array([False, False, False, False, True, True, True, True]), M) # take only 4 equations\n",
    "obs=x[:,fltr]\n",
    "x0 = x[0]\n",
    "obs.shape"
   ]
  },
  {
   "cell_type": "code",
   "execution_count": 26,
   "metadata": {},
   "outputs": [],
   "source": [
    "## matrix with all events\n",
    "def contactMatrix(t):\n",
    "    return contactMatrices[3]"
   ]
  },
  {
   "cell_type": "raw",
   "metadata": {},
   "source": [
    "import time more than 30 min ?\n",
    "start_time = time.time() \n",
    "logp = estimator.minus_logp_red(parameters, x0, obs[1:], fltr, Tf_inference, Nf_inference, contactMatrix)\n",
    "end_time = time.time()\n",
    "print(logp) \n",
    "print(end_time - start_time)"
   ]
  },
  {
   "cell_type": "code",
   "execution_count": null,
   "metadata": {},
   "outputs": [],
   "source": [
    "Ia0_g = (Ia_0+0.2)/N \n",
    "Ia0_std = [5/N]*M\n",
    "Ia0_b = [(0.1/N, 100/N)]*M"
   ]
  },
  {
   "cell_type": "code",
   "execution_count": null,
   "metadata": {},
   "outputs": [],
   "source": [
    "Is0_g = (Is_0+0.1)/N \n",
    "Is0_std = [5/N]*M  \n",
    "Is0_b = [(0.1/N, 100/N)]*M"
   ]
  },
  {
   "cell_type": "code",
   "execution_count": 46,
   "metadata": {},
   "outputs": [
    {
     "data": {
      "text/plain": [
       "2.290396897992515e-05"
      ]
     },
     "execution_count": 46,
     "metadata": {},
     "output_type": "execute_result"
    }
   ],
   "source": [
    "np.max(Is0_g)"
   ]
  },
  {
   "cell_type": "code",
   "execution_count": 61,
   "metadata": {},
   "outputs": [
    {
     "data": {
      "text/plain": [
       "0.07672502668194324"
      ]
     },
     "execution_count": 61,
     "metadata": {},
     "output_type": "execute_result"
    }
   ],
   "source": [
    "max(S0_g)\n"
   ]
  },
  {
   "cell_type": "code",
   "execution_count": 62,
   "metadata": {},
   "outputs": [
    {
     "data": {
      "text/plain": [
       "[(1.816333781120155e-07, 0.8549173967723023),\n",
       " (1.816333781120155e-07, 0.8554913582471362),\n",
       " (1.816333781120155e-07, 0.8615335742034105),\n",
       " (1.816333781120155e-07, 0.8619767596460038),\n",
       " (1.816333781120155e-07, 0.8689338629278284),\n",
       " (1.816333781120155e-07, 0.8718303704085807),\n",
       " (1.816333781120155e-07, 0.8621990789008129),\n",
       " (1.816333781120155e-07, 0.8581466566017558),\n",
       " (1.816333781120155e-07, 0.8665045164955801),\n",
       " (1.816333781120155e-07, 0.8701003124820638),\n",
       " (1.816333781120155e-07, 0.8767555410894661),\n",
       " (1.816333781120155e-07, 0.8692677050767983),\n",
       " (1.816333781120155e-07, 0.8613991655036076),\n",
       " (1.816333781120155e-07, 0.8579673844575593),\n",
       " (1.816333781120155e-07, 0.8629490431190374),\n",
       " (1.816333781120155e-07, 0.8400272740680573)]"
      ]
     },
     "execution_count": 62,
     "metadata": {},
     "output_type": "execute_result"
    }
   ],
   "source": [
    "[(1/N, f+0.8) for f in fi]"
   ]
  },
  {
   "cell_type": "code",
   "execution_count": 63,
   "metadata": {},
   "outputs": [],
   "source": [
    "eps = 1e-4 \n",
    "\n",
    "alpha_g = 0.25          \n",
    "alpha_std = 0.1\n",
    "alpha_b = (0.05, 0.5)\n",
    "\n",
    "beta_g  = 0.06         \n",
    "beta_std = 0.1\n",
    "beta_b = (eps, 1)\n",
    "\n",
    "gIa_g   = 0.13\n",
    "gIa_std = 0.05 \n",
    "gIa_b = (eps, 0.5)\n",
    "\n",
    "gIs_g   = 0.13\n",
    "gIs_std = 0.05 \n",
    "gIs_b = (eps, 0.5) \n",
    "\n",
    "gE_g    = 0.21 \n",
    "gE_std = 0.05\n",
    "gE_b = (0.1, 0.3)\n",
    "\n",
    "gA_g    = 0.35 \n",
    "gA_std = 0.05 \n",
    "gA_b = (0.2, 0.5) \n",
    "   \n",
    "\n",
    "E0_g = (E_0+3)/N\n",
    "E0_std = E0_g\n",
    "E0_b = [(0.1/N, 100/N)]*M \n",
    "\n",
    "A0_g  = (A_0+3)/N\n",
    "A0_std = A0_g\n",
    "A0_b = [[0.1/N, 100/N]]*M\n",
    "\n",
    "Ia0_g = (Ia_0+0.2)/N \n",
    "Ia0_std = [5/N]*M\n",
    "Ia0_b = [(0.1/N, 200/N)]*M\n",
    "\n",
    "Is0_g = (Is_0+0.1)/N \n",
    "Is0_std = [5/N]*M  \n",
    "Is0_b = [(0.1/N, 200/N)]*M\n",
    "\n",
    "Ih0_g = (Ih_0+0.1)/N \n",
    "Ih0_std = [5/N]*M \n",
    "Ih0_b = [(0.1/N, 100/N)]*M\n",
    "\n",
    "Ic0_g = (Ic_0+0.1)/N \n",
    "Ic0_std = [5/N]*M \n",
    "Ic0_b = [(0.1/N, 100/N)]*M\n",
    "\n",
    "Im0_g = (Im_0+0.1)/N \n",
    "Im0_std = [5/N]*M \n",
    "Im0_b = [(0.1/N, 100/N)]*M\n",
    "\n",
    "S0_g = (S_0-10)/N \n",
    "S0_std = E0_std*4 \n",
    "S0_b = [(1/N, f+0.8) for f in fi]\n",
    "\n",
    "# optimisation parameters \n",
    "ftol = 1e-4 # the relative tol in (-logp)   \n",
    "bounds = np.array([alpha_b, beta_b, gIa_b, gIs_b, gE_b, gA_b, \n",
    "                   *S0_b, *E0_b, *A0_b, *Ia0_b, *Is0_b, *Ih0_b, *Ic0_b, *Im0_b])\n",
    "guess = np.array([alpha_g, beta_g, gIa_g, gIs_g, gE_g, gA_g, \n",
    "                   *S0_g, *E0_g, *A0_g, *Ia0_g, *Is0_g, *Ih0_g, *Ic0_g, *Im0_g])\n",
    "stds = np.array([alpha_std, beta_std, gIa_std, gIs_std, gE_std, gA_std, \n",
    "                 *S0_std, *E0_std, *A0_std, *Ia0_std, *Is0_std, *Ih0_std, *Ic0_std, *Im0_std])\n",
    "\n"
   ]
  },
  {
   "cell_type": "code",
   "execution_count": null,
   "metadata": {},
   "outputs": [
    {
     "name": "stdout",
     "output_type": "stream",
     "text": [
      "Starting global minimisation...\n",
      "(8_w,16)-aCMA-ES (mu_w=4.8,w_1=32%) in dimension 134 (seed=3512049360, Tue May 12 19:57:27 2020)\n"
     ]
    }
   ],
   "source": [
    "start_time = time.time()\n",
    "params = estimator.latent_inference(guess, stds, obs, fltr, Tf_inference, Nf_inference, \n",
    "                                    contactMatrix, bounds, \n",
    "                                    global_max_iter=30, global_ftol_factor=1e3, verbose=True, ftol=ftol) \n",
    "end_time = time.time()\n",
    "print(end_time - start_time)"
   ]
  },
  {
   "cell_type": "code",
   "execution_count": null,
   "metadata": {},
   "outputs": [],
   "source": [
    "# save the parameters \n",
    "np.save('SEAI5R_latent_param.npy', params)"
   ]
  },
  {
   "cell_type": "code",
   "execution_count": null,
   "metadata": {},
   "outputs": [],
   "source": [
    "print('True parameters')\n",
    "print(parameters)\n",
    "\n",
    "params = np.load('SEAI5R_latent_param.npy')\n",
    "best_estimates = estimator.make_params_dict(params)\n",
    "print('\\n Best estimates')\n",
    "print(best_estimates)\n",
    "\n",
    "print('\\n True initial conditions: ') \n",
    "print(S0, E0, A0, Ia0, Is0, Ih0, Ic0, Im0)\n",
    "print('\\n Inferred initial conditons: ') \n",
    "print((params[6:]*N).astype('int'))"
   ]
  },
  {
   "cell_type": "code",
   "execution_count": null,
   "metadata": {},
   "outputs": [],
   "source": []
  },
  {
   "cell_type": "code",
   "execution_count": null,
   "metadata": {},
   "outputs": [],
   "source": []
  },
  {
   "cell_type": "code",
   "execution_count": null,
   "metadata": {},
   "outputs": [],
   "source": []
  }
 ],
 "metadata": {
  "kernelspec": {
   "display_name": "Python 3",
   "language": "python",
   "name": "python3"
  },
  "language_info": {
   "codemirror_mode": {
    "name": "ipython",
    "version": 3
   },
   "file_extension": ".py",
   "mimetype": "text/x-python",
   "name": "python",
   "nbconvert_exporter": "python",
   "pygments_lexer": "ipython3",
   "version": "3.7.3"
  }
 },
 "nbformat": 4,
 "nbformat_minor": 2
}
