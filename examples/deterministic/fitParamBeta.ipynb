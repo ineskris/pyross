{
 "cells": [
  {
   "cell_type": "markdown",
   "metadata": {},
   "source": [
    "### Age-structured SIR and SEIR model for COVID-19 epidemic in India\n",
    "\n",
    "In this example, we fit the data to obtain the parameter beta"
   ]
  },
  {
   "cell_type": "code",
   "execution_count": 1,
   "metadata": {},
   "outputs": [],
   "source": [
    "%%capture\n",
    "## compile PyRoss for this notebook\n",
    "import os\n",
    "owd = os.getcwd()\n",
    "os.chdir('../..')\n",
    "%run setup.py install\n",
    "os.chdir(owd)"
   ]
  },
  {
   "cell_type": "code",
   "execution_count": 2,
   "metadata": {},
   "outputs": [],
   "source": [
    "%matplotlib inline\n",
    "import numpy as np\n",
    "import pyross\n",
    "import matplotlib.pyplot as plt\n",
    "from scipy.io import loadmat\n",
    "from scipy import optimize"
   ]
  },
  {
   "cell_type": "code",
   "execution_count": 3,
   "metadata": {},
   "outputs": [],
   "source": [
    "M=16  # number of age groups\n",
    "\n",
    "# load age structure data\n",
    "my_data = np.genfromtxt('../data/age_structures/India-2019.csv', delimiter=',', skip_header=1)\n",
    "aM, aF = my_data[:, 1], my_data[:, 2]\n",
    "\n",
    "# set age groups\n",
    "Ni=aM+aF;   Ni=Ni[0:M];  N=np.sum(Ni)"
   ]
  },
  {
   "cell_type": "code",
   "execution_count": 4,
   "metadata": {},
   "outputs": [],
   "source": [
    "# contact matrices\n",
    "CH, CW, CS, CO = pyross.contactMatrix.India()\n",
    "\n",
    "\n",
    "# matrix of total contacts\n",
    "C=CH+CW+CS+CO"
   ]
  },
  {
   "cell_type": "markdown",
   "metadata": {},
   "source": [
    "## SIR"
   ]
  },
  {
   "cell_type": "code",
   "execution_count": 5,
   "metadata": {},
   "outputs": [],
   "source": [
    "gIa   = 1./7            # recovery rate of asymptomatic infectives \n",
    "gIs   = 1./7            # recovery rate of symptomatic infectives \n",
    "alpha = 0.               # fraction of asymptomatic infectives \n",
    "fsa   = 1                # the self-isolation parameter   \n",
    "\n",
    "\n",
    "# initial conditions    \n",
    "Is_0 = np.zeros((M));  Is_0[6:13]=3;  Is_0[2:6]=1\n",
    "Ia_0 = np.zeros((M))\n",
    "R_0  = np.zeros((M))\n",
    "S_0  = Ni - (Ia_0 + Is_0 + R_0)\n",
    "\n",
    "my_data = np.genfromtxt('../data/covid-cases/india.txt', delimiter='', skip_header=7)\n",
    "day, cases = my_data[:,0], my_data[:,3]-my_data[:,1]\n",
    "\n",
    "if alpha !=0:\n",
    "    cases_mf = 1./(1-alpha)\n",
    "else:\n",
    "    cases_mf = 1\n",
    "cases = cases*cases_mf\n",
    "\n",
    "\n",
    "# duration of simulation and data file\n",
    "Tf=21;  Nf=np.size(cases);  \n",
    "\n",
    "# the contact structure is independent of time \n",
    "def contactMatrix(t):\n",
    "    return C\n",
    "\n",
    "\n",
    "\n",
    "\n",
    "def findBetaIs(x):    \n",
    "    parameters = {'alpha':alpha,'beta':x, 'gIa':gIa,'gIs':gIs,'fsa':fsa}\n",
    "    model = pyross.deterministic.SIR(parameters, M, Ni)\n",
    "\n",
    "    data=model.simulate(S_0, Ia_0, Is_0, contactMatrix, Tf, Nf)\n",
    "    \n",
    "    Is = (model.Is(data))\n",
    "    summedAgesIs = Is.sum(axis=1)\n",
    "    \n",
    "    error = np.sum(( cases*(1+alpha)-summedAgesIs)**2)\n",
    "    return error\n",
    "    \n",
    "    \n",
    "    \n",
    "    \n",
    "def findBetaIsandIa(x):    \n",
    "    parameters = {'alpha':alpha,'beta':x, 'gIa':gIa,'gIs':gIs,'fsa':fsa}\n",
    "    model = pyross.deterministic.SIR(parameters, M, Ni)\n",
    "\n",
    "    data=model.simulate(S_0, Ia_0, Is_0, contactMatrix, Tf, Nf)\n",
    "    \n",
    "    Is = (model.Is(data))\n",
    "    summedAgesIs = Is.sum(axis=1)\n",
    "    \n",
    "    error = np.sum(( cases*(1+alpha)-summedAgesIs)**2)\n",
    "    return error"
   ]
  },
  {
   "cell_type": "code",
   "execution_count": 6,
   "metadata": {},
   "outputs": [],
   "source": [
    "x=.1\n",
    "parameters = {'alpha':alpha,'beta':x, 'gIa':gIa,'gIs':gIs,'fsa':fsa}\n",
    "model = pyross.deterministic.SIR(parameters, M, Ni)\n",
    "\n",
    "data=model.simulate(S_0, Ia_0, Is_0, contactMatrix, Tf, Nf)\n",
    "\n",
    "Is = (model.Is(data))\n",
    "#Is.shape()\n",
    "#summedAgesIs = Is.sum(axis=1)\n"
   ]
  },
  {
   "cell_type": "code",
   "execution_count": 7,
   "metadata": {},
   "outputs": [
    {
     "name": "stdout",
     "output_type": "stream",
     "text": [
      "Is only best fit:  [0.01646687]\n",
      "Is + Ia best fit:  [0.01646687]\n"
     ]
    }
   ],
   "source": [
    "beta0  = 0.0\n",
    "\n",
    "# fit only Is\n",
    "sol1 = optimize.root(findBetaIs,beta0) \n",
    "print('Is only best fit: ', sol1.x)\n",
    "\n",
    "# fit both Ia and Is\n",
    "sol2 = optimize.root(findBetaIsandIa,beta0)\n",
    "print('Is + Ia best fit: ', sol2.x)"
   ]
  },
  {
   "cell_type": "markdown",
   "metadata": {},
   "source": [
    "## SEIR"
   ]
  },
  {
   "cell_type": "code",
   "execution_count": 8,
   "metadata": {},
   "outputs": [],
   "source": [
    "gIa   = 1./7            # recovery rate of asymptomatic infectives \n",
    "gIs   = 1./7            # recovery rate of symptomatic infectives \n",
    "alpha = 0.               # fraction of asymptomatic infectives \n",
    "gE    = 1./4\n",
    "fsa   = 1                # the self-isolation parameter   \n",
    "\n",
    "# initial conditions    \n",
    "Is_0 = np.zeros((M));  Is_0[6:13]=3;  Is_0[2:6]=1\n",
    "\n",
    "E_0 = np.zeros((M))\n",
    "Ia_0 = np.zeros((M))\n",
    "R_0  = np.zeros((M))\n",
    "S_0  = Ni - (Ia_0 + Is_0 + R_0)\n",
    "\n",
    "my_data = np.genfromtxt('../data/covid-cases/india.txt', delimiter='', skip_header=7)\n",
    "day, cases = my_data[:,0], my_data[:,3]-my_data[:,1]\n",
    "\n",
    "if alpha !=0:\n",
    "    cases_mf = 1./(1-alpha)\n",
    "else:\n",
    "    cases_mf = 1\n",
    "cases = cases*cases_mf\n",
    "\n",
    "\n",
    "# duration of simulation and data file\n",
    "Tf=21;  Nf=np.size(cases);  \n",
    "\n",
    "# the contact structure is independent of time \n",
    "def contactMatrix(t):\n",
    "    return C\n",
    "\n",
    "\n",
    "\n",
    "\n",
    "def findBetaIs(x):\n",
    "        parameters = {'alpha':alpha,'beta':x, 'gIa':gIa,'gIs':gIs,'gE':gE,'fsa':fsa}\n",
    "        model = pyross.deterministic.SEIR(parameters, M, Ni)\n",
    "        data=model.simulate(S_0, E_0, Ia_0, Is_0, contactMatrix, Tf, Nf)\n",
    "\n",
    "        t = data['t']; IC  = np.zeros((Nf))\n",
    "        for i in range(M):\n",
    "            IC += data['X'][:,3*M+i] \n",
    "\n",
    "        error = np.sum(( cases-IC)**2)\n",
    "        return error\n",
    "\n",
    "\n",
    "\n",
    "    \n",
    "def findBetaIsandIa(x):\n",
    "        parameters = {'alpha':alpha,'beta':x, 'gIa':gIa,'gIs':gIs,'gE':gE,'fsa':fsa}\n",
    "        model = pyross.deterministic.SEIR(parameters, M, Ni)\n",
    "        data=model.simulate(S_0, E_0, Ia_0, Is_0, contactMatrix, Tf, Nf)\n",
    "\n",
    "        t = data['t']; IC  = np.zeros((Nf))\n",
    "        for i in range(2*M):\n",
    "            IC += data['X'][:,2*M+i] \n",
    "\n",
    "        error = np.sum(( cases-IC)**2)\n",
    "        return error"
   ]
  },
  {
   "cell_type": "code",
   "execution_count": 9,
   "metadata": {},
   "outputs": [
    {
     "name": "stdout",
     "output_type": "stream",
     "text": [
      "Is only best fit:  [0.03258979]\n",
      "Is + Ia best fit:  [0.03258979]\n"
     ]
    }
   ],
   "source": [
    "beta0  = 0.0\n",
    "\n",
    "# fit only Is\n",
    "sol1 = optimize.root(findBetaIs,beta0) \n",
    "print('Is only best fit: ', sol1.x)\n",
    "\n",
    "# fit both Ia and Is\n",
    "sol2 = optimize.root(findBetaIsandIa,beta0)\n",
    "print('Is + Ia best fit: ', sol2.x)"
   ]
  },
  {
   "cell_type": "code",
   "execution_count": null,
   "metadata": {},
   "outputs": [],
   "source": []
  },
  {
   "cell_type": "code",
   "execution_count": null,
   "metadata": {},
   "outputs": [],
   "source": [
    "gIa   = 1./7            # recovery rate of asymptomatic infectives \n",
    "gIs   = 1./7            # recovery rate of symptomatic infectives \n",
    "alpha = 0.               # fraction of asymptomatic infectives \n",
    "gE    = 1./4\n",
    "fsa   = 1                # the self-isolation parameter   \n",
    "\n",
    "# initial conditions    \n",
    "Is_0 = np.zeros((M));  Is_0[6:13]=3;  Is_0[2:6]=1\n",
    "\n",
    "E_0 = np.zeros((M))\n",
    "Ia_0 = np.zeros((M))\n",
    "R_0  = np.zeros((M))\n",
    "S_0  = Ni - (Ia_0 + Is_0 + R_0)\n",
    "\n",
    "my_data = np.genfromtxt('../data/covid-cases/denmark.txt', delimiter='', skip_header=7)\n",
    "day, cases = my_data[:,0], my_data[:,3]-my_data[:,1]\n",
    "\n",
    "if alpha !=0:\n",
    "    cases_mf = 1./(1-alpha)\n",
    "else:\n",
    "    cases_mf = 1\n",
    "cases = cases*cases_mf\n",
    "\n",
    "\n",
    "# duration of simulation and data file\n",
    "Tf=21;  Nf=np.size(cases);  \n",
    "\n",
    "# the contact structure is independent of time \n",
    "def contactMatrix(t):\n",
    "    return C\n",
    "\n",
    "\n",
    "\n",
    "\n",
    "def findBetaIs(x):\n",
    "        parameters = {'alpha':alpha,'beta':x, 'gIa':gIa,'gIs':gIs,'gE':gE,'fsa':fsa}\n",
    "        model = pyross.deterministic.SEIR(parameters, M, Ni)\n",
    "        data=model.simulate(S_0, E_0, Ia_0, Is_0, contactMatrix, Tf, Nf)\n",
    "\n",
    "        t = data['t']; IC  = np.zeros((Nf))\n",
    "        for i in range(M):\n",
    "            IC += data['X'][:,3*M+i] \n",
    "\n",
    "        error = np.sum(( cases-IC)**2)\n",
    "        return error\n",
    "\n",
    "\n",
    "\n",
    "    \n",
    "def findBetaIsandIa(x):\n",
    "        parameters = {'alpha':alpha,'beta':x, 'gIa':gIa,'gIs':gIs,'gE':gE,'fsa':fsa}\n",
    "        model = pyross.deterministic.SEIR(parameters, M, Ni)\n",
    "        data=model.simulate(S_0, E_0, Ia_0, Is_0, contactMatrix, Tf, Nf)\n",
    "\n",
    "        t = data['t']; IC  = np.zeros((Nf))\n",
    "        for i in range(2*M):\n",
    "            IC += data['X'][:,2*M+i] \n",
    "\n",
    "        error = np.sum(( cases-IC)**2)\n",
    "        return error"
   ]
  },
  {
   "cell_type": "code",
   "execution_count": null,
   "metadata": {},
   "outputs": [],
   "source": []
  }
 ],
 "metadata": {
  "kernelspec": {
   "display_name": "Python 3",
   "language": "python",
   "name": "python3"
  },
  "language_info": {
   "codemirror_mode": {
    "name": "ipython",
    "version": 3
   },
   "file_extension": ".py",
   "mimetype": "text/x-python",
   "name": "python",
   "nbconvert_exporter": "python",
   "pygments_lexer": "ipython3",
   "version": "3.7.1"
  }
 },
 "nbformat": 4,
 "nbformat_minor": 2
}
