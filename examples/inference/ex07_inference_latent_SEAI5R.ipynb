{
 "cells": [
  {
   "cell_type": "markdown",
   "metadata": {},
   "source": [
    "# Inference of parameters with latent variables (SEAI5R model)\n",
    "In this notebook, we consider the SEAI5R model with various stages of infection: exposed, activated, asymptomatic infected, symptomatic infected, hospitalised, critial and mortality. We are trying to infer the following parameters of the model \n",
    "\n",
    "* $\\alpha$ (fraction of asymptomatic infectives), \n",
    "* $\\beta$ (probability of infection on contact), \n",
    "* $\\gamma_{I_a}$ (rate of recovery for asymptomatic infected individuals), \n",
    "* $\\gamma_{I_s}$ (rate of recovery for symptomatic infected individuals), \n",
    "* $\\gamma_\\mathrm{E}$ (rate of exposed -> activated), \n",
    "* $\\gamma_\\mathrm{A}$ (rate of activated -> infected, symptomatic or asymptomatic)\n",
    "\n",
    "when given data of classes Is, Ih, Ic, Im from a generated trajectory."
   ]
  },
  {
   "cell_type": "code",
   "execution_count": 6,
   "metadata": {},
   "outputs": [],
   "source": [
    "%%capture\n",
    "## compile PyRoss for this notebook\n",
    "import os\n",
    "owd = os.getcwd()\n",
    "os.chdir('../../')\n",
    "%run setup.py install\n",
    "os.chdir(owd)"
   ]
  },
  {
   "cell_type": "code",
   "execution_count": 7,
   "metadata": {},
   "outputs": [],
   "source": [
    "%matplotlib inline\n",
    "import numpy as np\n",
    "from matplotlib import pyplot as plt\n",
    "import pyross\n",
    "import time "
   ]
  },
  {
   "cell_type": "markdown",
   "metadata": {},
   "source": [
    "## 1) Generate a trajectory\n",
    "We generate a test trajectory on a population with two ages groups."
   ]
  },
  {
   "cell_type": "code",
   "execution_count": 8,
   "metadata": {},
   "outputs": [],
   "source": [
    "M  = 2                  # the population has two age groups\n",
    "N  =  5e4           # and this is the total population\n",
    "\n",
    "# correct params\n",
    "\n",
    "beta  = 0.02         # infection rate\n",
    "gIa   = 1./7            # recovery rate of asymptomatic infectives\n",
    "gIs   = 1./7            \n",
    "gIh   = 1/14\n",
    "gIc   = 1/14\n",
    "alpha = 0.2          # fraction of asymptomatic infectives\n",
    "fsa   = 0.8          # the self-isolation parameter\n",
    "fh = 0.1 \n",
    "gE    = 1/5\n",
    "gA    = 1/3\n",
    "\n",
    "hh   = 0.1*np.ones(M)       # fraction which goes from Is to hospital\n",
    "cc   = 0.05*np.ones(M)      # fraction which goes from  hospital to ICU \n",
    "mm   = 0.4*np.ones(M)       # mortality from IC\n",
    "sa = 0  # change in the population, not taken into account by inference at the moment \n",
    "\n",
    "# set the age structure\n",
    "fi = np.array([0.25, 0.75])  # fraction of population in age age group\n",
    "Ni = N*fi\n",
    "\n",
    "# set the contact structure\n",
    "C = np.array([[18., 9.], [3., 12.]])\n",
    "\n",
    "# set up initial condition\n",
    "Ia0 = np.array([10, 10])  # each age group has asymptomatic infectives\n",
    "Is0 = np.array([10, 10])   # and also symptomatic infectives\n",
    "R0  = np.zeros((M))\n",
    "E0  = np.array([10, 10])\n",
    "A0  = np.array([10, 10])\n",
    "Ih0  = np.zeros((M))\n",
    "Ic0  = np.zeros((M))\n",
    "Im0  = np.zeros((M))\n",
    "S0  = Ni - (Ia0+Is0+R0+E0+A0+Ih0+Ic0+Im0)\n",
    "\n",
    "Tf = 100\n",
    "Nf = Tf+1\n",
    "\n",
    "def contactMatrix(t):\n",
    "    return C\n",
    "\n",
    "parameters = {'alpha':alpha,'beta':beta, 'gIa':gIa,'gIs':gIs,\n",
    "              'gIh':gIh,'gIc':gIc,  'gE':gE, 'gA':gA,\n",
    "              'fsa':fsa, 'fh':fh, \n",
    "              'sa':sa, 'hh':hh, 'cc':cc, 'mm':mm}\n",
    "\n",
    "# use pyross stochastic to generate traj and save \n",
    "sto_model = pyross.stochastic.SEAI5R(parameters, M, Ni)\n",
    "data = sto_model.simulate(S0, E0, A0, Ia0, Is0, Ih0, Ic0, Im0, contactMatrix, Tf, Nf)\n",
    "data_array = data['X']\n",
    "np.save('SEAI5R_latent_traj.npy', data_array)"
   ]
  },
  {
   "cell_type": "code",
   "execution_count": 9,
   "metadata": {},
   "outputs": [
    {
     "data": {
      "image/png": "[encoded data removed]",
      "text/plain": [
       "<Figure size 432x288 with 1 Axes>"
      ]
     },
     "metadata": {
      "needs_background": "light"
     },
     "output_type": "display_data"
    }
   ],
   "source": [
    "# plot the stochastic solution \n",
    "plt.plot(data_array[:, 0], label='S')\n",
    "plt.plot(data_array[:, M], label='E')\n",
    "plt.plot(data_array[:, 2*M], label='A')\n",
    "plt.plot(data_array[:, 3*M], label='Ia')\n",
    "plt.plot(data_array[:, 4*M], label='Is')\n",
    "\n",
    "plt.legend()\n",
    "plt.show()"
   ]
  },
  {
   "cell_type": "markdown",
   "metadata": {},
   "source": [
    "## 2) Inference\n",
    "We take the first $30$ data points of the $I_\\mathrm{s}, I_\\mathrm{h}, I_\\mathrm{c}, I_\\mathrm{m}$ trajectory and use it to infer the parameters of the model."
   ]
  },
  {
   "cell_type": "code",
   "execution_count": 10,
   "metadata": {},
   "outputs": [
    {
     "name": "stdout",
     "output_type": "stream",
     "text": [
      "-2524.1051544897064\n",
      "0.8233017921447754\n"
     ]
    }
   ],
   "source": [
    "# load the data and rescale to intensive variables \n",
    "Tf_inference = 30 \n",
    "Nf_inference = Tf_inference + 1 \n",
    "\n",
    "x = np.load('SEAI5R_latent_traj.npy').astype('float')\n",
    "x = x[:Nf_inference,:8*M]/N\n",
    "steps = 101 # number internal integration steps taken\n",
    "\n",
    "\n",
    "# initialise the estimator \n",
    "estimator = pyross.inference.SEAI5R(parameters, M, fi, int(N), steps)\n",
    "\n",
    "## create filter to distinguish between observable classes\n",
    "fltr=np.repeat(np.array([False, False, False, False, True, True, True, True]), M)\n",
    "obs=x[:,fltr]\n",
    "x0 = x[0]\n",
    "\n",
    "# compute -log_p for the original (correct) parameters \n",
    "start_time = time.time() \n",
    "logp = estimator.minus_logp_red(parameters, x0, obs[1:], fltr, Tf_inference, Nf_inference, contactMatrix)\n",
    "end_time = time.time()\n",
    "print(logp) \n",
    "print(end_time - start_time)"
   ]
  },
  {
   "cell_type": "code",
   "execution_count": 11,
   "metadata": {},
   "outputs": [
    {
     "name": "stdout",
     "output_type": "stream",
     "text": [
      "Starting global minimisation...\n",
      "(8_w,16)-aCMA-ES (mu_w=4.8,w_1=32%) in dimension 22 (seed=2377470565, Tue May 12 18:45:51 2020)\n",
      "Iterat #Fevals   function value  axis ratio  sigma  min&max std  t[m:s]\n",
      "    1     16 1.777711640425611e+03 1.0e+00 9.48e-01  9e-04  1e-01 0:10.9\n",
      "    2     32 -2.484375658755657e+03 1.1e+00 9.35e-01  9e-04  9e-02 0:19.6\n",
      "    3     48 -1.700603637078662e+03 1.1e+00 9.71e-01  1e-03  1e-01 0:28.0\n",
      "    4     64 -2.470920935849455e+03 1.2e+00 9.64e-01  9e-04  1e-01 0:34.4\n",
      "    5     80 -2.424546099663620e+03 1.3e+00 9.99e-01  1e-03  1e-01 0:43.0\n",
      "    6     96 -2.403491765179361e+03 1.3e+00 1.02e+00  1e-03  1e-01 0:50.5\n",
      "    7    112 -1.941362235175533e+03 1.3e+00 9.83e-01  9e-04  1e-01 0:59.2\n",
      "    8    128 -2.460666541818803e+03 1.4e+00 9.74e-01  9e-04  1e-01 1:06.9\n",
      "    9    144 -2.465645562089970e+03 1.4e+00 9.36e-01  9e-04  1e-01 1:15.3\n",
      "   11    176 -2.425431054500677e+03 1.4e+00 9.39e-01  9e-04  1e-01 1:30.0\n",
      "   13    208 -2.390795367382314e+03 1.4e+00 9.72e-01  9e-04  1e-01 1:46.3\n",
      "   15    240 -2.383132588136396e+03 1.5e+00 9.82e-01  9e-04  1e-01 2:00.4\n",
      "   17    272 -2.407227453012327e+03 1.6e+00 9.62e-01  9e-04  1e-01 2:15.9\n",
      "   20    320 -2.406071875294344e+03 1.6e+00 9.61e-01  9e-04  1e-01 2:37.0\n",
      "   22    352 -2.303407099081090e+03 1.6e+00 9.55e-01  9e-04  1e-01 2:53.3\n",
      "   24    384 -2.280675649744582e+03 1.6e+00 9.78e-01  9e-04  1e-01 3:09.4\n",
      "   27    432 -2.265636592616014e+03 1.7e+00 9.40e-01  9e-04  1e-01 3:28.6\n",
      "   30    480 -2.264331830731836e+03 1.7e+00 9.23e-01  9e-04  9e-02 3:50.5\n",
      "Optimal value (global minimisation):  -2484.3756587556572\n",
      "Starting local minimisation...\n",
      "Optimal value (local minimisation):  -2498.2685404915505\n",
      "284.3666980266571\n"
     ]
    }
   ],
   "source": [
    "eps = 1e-4 \n",
    "\n",
    "alpha_g = 0.25          \n",
    "alpha_std = 0.1\n",
    "alpha_b = (0.05, 0.5)\n",
    "\n",
    "beta_g  = 0.06         \n",
    "beta_std = 0.1\n",
    "beta_b = (eps, 1)\n",
    "\n",
    "gIa_g   = 0.13\n",
    "gIa_std = 0.05 \n",
    "gIa_b = (eps, 0.5)\n",
    "\n",
    "gIs_g   = 0.13\n",
    "gIs_std = 0.05 \n",
    "gIs_b = (eps, 0.5) \n",
    "\n",
    "gE_g    = 0.21 \n",
    "gE_std = 0.05\n",
    "gE_b = (0.1, 0.3)\n",
    "\n",
    "gA_g    = 0.35 \n",
    "gA_std = 0.05 \n",
    "gA_b = (0.2, 0.5) \n",
    "   \n",
    "\n",
    "E0_g = (E0+3)/N\n",
    "E0_std = E0_g\n",
    "E0_b = [[0.1/N, 100/N]]*M \n",
    "\n",
    "A0_g  = (A0+3)/N\n",
    "A0_std = A0_g\n",
    "A0_b = [[0.1/N, 100/N]]*M\n",
    "\n",
    "Ia0_g = (Ia0+0.2)/N \n",
    "Ia0_std = [5/N]*M\n",
    "Ia0_b = [(0.1/N, 100/N)]*M\n",
    "\n",
    "Is0_g = (Is0+0.1)/N \n",
    "Is0_std = [5/N]*M  \n",
    "Is0_b = [(0.1/N, 100/N)]*M\n",
    "\n",
    "Ih0_g = (Ih0+0.1)/N \n",
    "Ih0_std = [5/N]*M \n",
    "Ih0_b = [(0.1/N, 100/N)]*M\n",
    "\n",
    "Ic0_g = (Ic0+0.1)/N \n",
    "Ic0_std = [5/N]*M \n",
    "Ic0_b = [(0.1/N, 100/N)]*M\n",
    "\n",
    "Im0_g = (Im0+0.1)/N \n",
    "Im0_std = [5/N]*M \n",
    "Im0_b = [(0.1/N, 100/N)]*M\n",
    "\n",
    "S0_g = (S0-10)/N \n",
    "S0_std = E0_std*4 \n",
    "S0_b = [(1/N, f) for f in fi]\n",
    "\n",
    "\n",
    "\n",
    "# optimisation parameters \n",
    "ftol = 1e-4 # the relative tol in (-logp)   \n",
    "bounds = np.array([alpha_b, beta_b, gIa_b, gIs_b, gE_b, gA_b, \n",
    "                   *S0_b, *E0_b, *A0_b, *Ia0_b, *Is0_b, *Ih0_b, *Ic0_b, *Im0_b])\n",
    "guess = np.array([alpha_g, beta_g, gIa_g, gIs_g, gE_g, gA_g, \n",
    "                   *S0_g, *E0_g, *A0_g, *Ia0_g, *Is0_g, *Ih0_g, *Ic0_g, *Im0_g])\n",
    "stds = np.array([alpha_std, beta_std, gIa_std, gIs_std, gE_std, gA_std, \n",
    "                 *S0_std, *E0_std, *A0_std, *Ia0_std, *Is0_std, *Ih0_std, *Ic0_std, *Im0_std])\n",
    "start_time = time.time()\n",
    "params = estimator.latent_inference(guess, stds, obs, fltr, Tf_inference, Nf_inference, \n",
    "                                    contactMatrix, bounds, \n",
    "                                    global_max_iter=30, global_ftol_factor=1e3, \n",
    "                                    verbose=True, ftol=ftol) \n",
    "end_time = time.time()\n",
    "print(end_time - start_time)"
   ]
  },
  {
   "cell_type": "code",
   "execution_count": null,
   "metadata": {},
   "outputs": [],
   "source": []
  },
  {
   "cell_type": "code",
   "execution_count": 13,
   "metadata": {},
   "outputs": [],
   "source": [
    "# save the parameters \n",
    "np.save('SEAI5R_latent_param.npy', params)"
   ]
  },
  {
   "cell_type": "code",
   "execution_count": 14,
   "metadata": {},
   "outputs": [
    {
     "name": "stdout",
     "output_type": "stream",
     "text": [
      "True parameters\n",
      "{'alpha': 0.2, 'beta': 0.02, 'gIa': 0.14285714285714285, 'gIs': 0.14285714285714285, 'gIh': 0.07142857142857142, 'gIc': 0.07142857142857142, 'gE': 0.2, 'gA': 0.3333333333333333, 'fsa': 0.8, 'fh': 0.1, 'sa': 0, 'hh': array([0.1, 0.1]), 'cc': array([0.05, 0.05]), 'mm': array([0.4, 0.4])}\n",
      "\n",
      " Best estimates\n",
      "{'alpha': 0.38538913452023416, 'beta': 0.024094904542416227, 'gIa': 0.07178489787962614, 'gIs': 0.17993147301995116, 'gE': 0.16220806120612163, 'gA': 0.2962051102984762, 'gIh': 0.07142857142857142, 'gIc': 0.07142857142857142, 'fsa': 0.8, 'fh': 0.1, 'sa': 0, 'hh': array([0.1, 0.1]), 'cc': array([0.05, 0.05]), 'mm': array([0.4, 0.4])}\n",
      "\n",
      " True initial conditions: \n",
      "[12460. 37460.] [10 10] [10 10] [10 10] [10 10] [0. 0.] [0. 0.] [0. 0.]\n",
      "\n",
      " Inferred initial conditons: \n",
      "[12450 37459    19    13    24    17    13    12     6    11     0     0\n",
      "     0     0     0     0]\n"
     ]
    }
   ],
   "source": [
    "print('True parameters')\n",
    "print(parameters)\n",
    "\n",
    "params = np.load('SEAI5R_latent_param.npy')\n",
    "best_estimates = estimator.make_params_dict(params)\n",
    "print('\\n Best estimates')\n",
    "print(best_estimates)\n",
    "\n",
    "print('\\n True initial conditions: ') \n",
    "print(S0, E0, A0, Ia0, Is0, Ih0, Ic0, Im0)\n",
    "print('\\n Inferred initial conditons: ') \n",
    "print((params[6:]*N).astype('int'))"
   ]
  },
  {
   "cell_type": "code",
   "execution_count": 15,
   "metadata": {},
   "outputs": [
    {
     "data": {
      "image/png": "[encoded data removed]",
      "text/plain": [
       "<Figure size 432x288 with 1 Axes>"
      ]
     },
     "metadata": {
      "needs_background": "light"
     },
     "output_type": "display_data"
    }
   ],
   "source": [
    "# Compare inferred trajectories to true trajectories \n",
    "x0 = params[6:]\n",
    "det_model = pyross.deterministic.SEAI5R(best_estimates, int(M), fi)\n",
    "estimator.set_params(best_estimates)\n",
    "x_det = estimator.integrate(x0, 0, Tf, Nf, det_model, contactMatrix)\n",
    "x = np.load('SEAI5R_latent_traj.npy').astype('float')[:, :8*M]/N\n",
    "\n",
    "plt.plot(np.sum(x[:,M:4*M], axis=1), label='True unknown infective')\n",
    "plt.plot(np.sum(x_det[:,M:4*M], axis=1), label='Inferred unknown infective')\n",
    "plt.plot(np.sum(x[:,4*M:], axis=1), label='True known infectives')\n",
    "plt.plot(np.sum(x_det[:, 4*M:], axis=1), label='Inferred known infectives')\n",
    "plt.axvspan(0, Tf_inference, \n",
    "           label='Used for inference',\n",
    "           alpha=0.3, color='dodgerblue')\n",
    "plt.xlim([0, Tf])\n",
    "plt.legend(loc='upper right',bbox_to_anchor=(1.4,1),\n",
    "          fontsize=12)\n",
    "plt.show()"
   ]
  },
  {
   "cell_type": "code",
   "execution_count": null,
   "metadata": {},
   "outputs": [],
   "source": []
  }
 ],
 "metadata": {
  "kernelspec": {
   "display_name": "Python 3",
   "language": "python",
   "name": "python3"
  },
  "language_info": {
   "codemirror_mode": {
    "name": "ipython",
    "version": 3
   },
   "file_extension": ".py",
   "mimetype": "text/x-python",
   "name": "python",
   "nbconvert_exporter": "python",
   "pygments_lexer": "ipython3",
   "version": "3.7.3"
  }
 },
 "nbformat": 4,
 "nbformat_minor": 4
}
