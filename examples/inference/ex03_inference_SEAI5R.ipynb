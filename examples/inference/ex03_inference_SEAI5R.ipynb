{
 "cells": [
  {
   "cell_type": "markdown",
   "metadata": {},
   "source": [
    "# Inference of parameters (SEAI5R model)\n",
    "In this notebook, we consider the SEAI5R model with various stages of infection: exposed, activated, asymptomatic infected, symptomatic infected, hospitalised, critial and mortality. We are trying to infer the following parameters of the model \n",
    "\n",
    "* $\\alpha$ (fraction of asymptomatic infectives), \n",
    "* $\\beta$ (probability of infection on contact), \n",
    "* $\\gamma_{I_a}$ (rate of recovery for asymptomatic infected individuals), \n",
    "* $\\gamma_{I_s}$ (rate of recovery for symptomatic infected individuals), \n",
    "* $\\gamma_\\mathrm{E}$ (rate of exposed -> activated), \n",
    "* $\\gamma_\\mathrm{A}$ (rate of activated -> infected, symptomatic or asymptomatic)\n",
    "* $\\mathrm{hh}$ (rate of infected -> hospitalised)\n",
    "\n",
    "when given full data of all the classes from a generated trajectory.\n",
    "This notebook uses the experimental support for inferring age-dependent rates (as a scale factor for $\\alpha$ and independent rates for $\\text{hh}$)."
   ]
  },
  {
   "cell_type": "code",
   "execution_count": 1,
   "metadata": {},
   "outputs": [],
   "source": [
    "%%capture\n",
    "## compile PyRoss for this notebook\n",
    "import os\n",
    "owd = os.getcwd()\n",
    "os.chdir('../../')\n",
    "%run setup.py install\n",
    "os.chdir(owd)"
   ]
  },
  {
   "cell_type": "code",
   "execution_count": 2,
   "metadata": {},
   "outputs": [],
   "source": [
    "%matplotlib inline\n",
    "import numpy as np\n",
    "from matplotlib import pyplot as plt\n",
    "import pyross\n",
    "import time "
   ]
  },
  {
   "cell_type": "markdown",
   "metadata": {},
   "source": [
    "## 1) Generate a trajectory\n",
    "We generate a test trajectory on a population with two ages groups."
   ]
  },
  {
   "cell_type": "code",
   "execution_count": 3,
   "metadata": {},
   "outputs": [],
   "source": [
    "M  = 2                  # the population has two age groups\n",
    "N  =  5e4           # and this is the total population\n",
    "\n",
    "# correct params\n",
    "\n",
    "beta  = 0.02         # infection rate\n",
    "gIa   = 1./7            # recovery rate of asymptomatic infectives\n",
    "gIs   = 1./7            \n",
    "gIh   = 1/14\n",
    "gIc   = 1/14\n",
    "alpha = np.array([0.2, 0.3])   # fraction of asymptomatic infectives\n",
    "fsa   = 0.8          # the self-isolation parameter\n",
    "fh = 0.1 \n",
    "gE    = 1/5\n",
    "gA    = 1/3\n",
    "\n",
    "hh   = 0.1*np.ones(M)       # fraction which goes from Is to hospital\n",
    "cc   = 0.05*np.ones(M)      # fraction which goes from  hospital to ICU \n",
    "mm   = 0.4*np.ones(M)       # mortality from IC\n",
    "sa = 0  # change in the population, not taken into account by inference at the moment \n",
    "\n",
    "# set the age structure\n",
    "fi = np.array([0.25, 0.75])  # fraction of population in age age group\n",
    "Ni = N*fi\n",
    "\n",
    "# set the contact structure\n",
    "C = np.array([[18., 9.], [3., 12.]])\n",
    "\n",
    "# set up initial condition\n",
    "Ia0 = np.array([10, 10])  # each age group has asymptomatic infectives\n",
    "Is0 = np.array([10, 10])   # and also symptomatic infectives\n",
    "R0  = np.zeros((M))\n",
    "E0  = np.array([10, 10])\n",
    "A0  = np.array([10, 10])\n",
    "Ih0  = np.zeros((M))\n",
    "Ic0  = np.zeros((M))\n",
    "Im0  = np.zeros((M))\n",
    "S0  = Ni - (Ia0+Is0+R0+E0+A0+Ih0+Ic0+Im0)\n",
    "\n",
    "Tf = 100\n",
    "Nf = Tf+1\n",
    "\n",
    "def contactMatrix(t):\n",
    "    return C\n",
    "\n",
    "parameters = {'alpha':alpha,'beta':beta, 'gIa':gIa,'gIs':gIs,\n",
    "              'gIh':gIh,'gIc':gIc,  'gE':gE, 'gA':gA,\n",
    "              'fsa':fsa, 'fh':fh, \n",
    "              'sa':sa, 'hh':hh, 'cc':cc, 'mm':mm}\n",
    "\n",
    "# use pyross stochastic to generate traj and save \n",
    "sto_model = pyross.stochastic.SEAI5R(parameters, M, Ni)\n",
    "data = sto_model.simulate(S0, E0, A0, Ia0, Is0, Ih0, Ic0, Im0, contactMatrix, Tf, Nf)\n",
    "data_array = data['X']\n",
    "np.save('SEAI5R_traj.npy', data_array)"
   ]
  },
  {
   "cell_type": "code",
   "execution_count": 4,
   "metadata": {},
   "outputs": [
    {
     "data": {
      "image/png": "[encoded data removed]",
      "text/plain": [
       "<Figure size 432x288 with 1 Axes>"
      ]
     },
     "metadata": {
      "needs_background": "light"
     },
     "output_type": "display_data"
    }
   ],
   "source": [
    "# plot the stochastic solution \n",
    "plt.plot(data_array[:, 0], label='S')\n",
    "plt.plot(data_array[:, M], label='E')\n",
    "plt.plot(data_array[:, 2*M], label='A')\n",
    "plt.plot(data_array[:, 3*M], label='Ia')\n",
    "plt.plot(data_array[:, 4*M], label='Is')\n",
    "\n",
    "plt.legend()\n",
    "plt.show()"
   ]
  },
  {
   "cell_type": "markdown",
   "metadata": {},
   "source": [
    "## 2) Inference\n",
    "We take the first $40$ data points of the trajectory and use it to infer the parameters of the model."
   ]
  },
  {
   "cell_type": "code",
   "execution_count": 5,
   "metadata": {},
   "outputs": [
    {
     "name": "stdout",
     "output_type": "stream",
     "text": [
      "-5717.490295645444\n",
      "1.7033052444458008\n"
     ]
    }
   ],
   "source": [
    "# load the data and rescale to intensive variables \n",
    "Tf_inference = 40 \n",
    "Nf_inference = Tf_inference + 1 \n",
    "\n",
    "x = np.load('SEAI5R_traj.npy').astype('float')\n",
    "x = x[:Nf_inference,:8*M]/N\n",
    "steps = 101 # number internal integration steps taken\n",
    "\n",
    "\n",
    "# initialise the estimator \n",
    "estimator = pyross.inference.SEAI5R(parameters, M, fi, int(N), steps)\n",
    "\n",
    "# compute -log_p for the original (correct) parameters \n",
    "start_time = time.time() \n",
    "logp = estimator.obtain_minus_log_p(parameters, x, Tf_inference, Nf_inference, contactMatrix)\n",
    "end_time = time.time()\n",
    "print(logp) \n",
    "print(end_time - start_time)"
   ]
  },
  {
   "cell_type": "code",
   "execution_count": 6,
   "metadata": {},
   "outputs": [
    {
     "name": "stdout",
     "output_type": "stream",
     "text": [
      "Starting global minimisation...\n",
      "(8_w,16)-aCMA-ES (mu_w=4.8,w_1=32%) in dimension 8 (seed=2512569910, Thu May 14 17:29:49 2020)\n",
      "Iterat #Fevals   function value  axis ratio  sigma  min&max std  t[m:s]\n",
      "    1     16 -2.274656260261217e+03 1.0e+00 9.55e-01  4e-02  2e-01 0:32.4\n",
      "    2     32 -3.925225495410452e+03 1.3e+00 9.44e-01  4e-02  2e-01 1:06.2\n",
      "    3     48 -1.681628480440067e+03 1.5e+00 9.26e-01  4e-02  2e-01 1:52.1\n",
      "    4     64 -1.323778202010728e+03 1.6e+00 9.88e-01  4e-02  2e-01 2:36.5\n",
      "    5     80 -3.527064450359042e+03 1.7e+00 1.01e+00  4e-02  2e-01 3:16.3\n",
      "    6     96 -3.851427405015021e+03 1.8e+00 9.23e-01  4e-02  2e-01 3:57.2\n",
      "    7    112 -3.169075117312629e+03 1.8e+00 8.02e-01  3e-02  1e-01 4:37.2\n",
      "    8    128 -5.338277899975510e+03 1.8e+00 8.30e-01  3e-02  1e-01 5:22.9\n",
      "    9    144 -4.470185744078109e+03 1.9e+00 8.16e-01  3e-02  1e-01 5:59.1\n",
      "   10    160 -2.535396287925111e+03 1.9e+00 7.51e-01  3e-02  1e-01 6:36.8\n",
      "   11    176 -3.180823170844877e+03 1.9e+00 8.16e-01  3e-02  2e-01 7:14.8\n",
      "   12    192 -4.444034403055818e+03 1.7e+00 8.30e-01  3e-02  2e-01 7:54.2\n",
      "   13    208 -2.616449160301666e+03 1.9e+00 9.25e-01  3e-02  2e-01 8:34.8\n",
      "   14    224 -4.479703403569001e+03 2.0e+00 8.59e-01  3e-02  2e-01 9:14.2\n",
      "   15    240 -5.307071676238657e+03 2.0e+00 8.11e-01  3e-02  2e-01 9:52.1\n",
      "Optimal value (global minimisation):  -5338.27789997551\n",
      "Starting local minimisation...\n",
      "Optimal value (local minimisation):  -5686.084809547119\n",
      "774.2025203704834\n"
     ]
    }
   ],
   "source": [
    "eps = 1e-4 \n",
    "\n",
    "# Infer a scaling parameter for alpha.\n",
    "alpha_g = 0.95 * alpha       \n",
    "alpha_std = 0.2\n",
    "alpha_b = (0.5, 1.5)\n",
    "\n",
    "beta_g  = 0.1        \n",
    "beta_std = 0.1\n",
    "beta_b = (eps, 1)\n",
    "\n",
    "gIa_g   = 0.13\n",
    "gIa_std = 0.05 \n",
    "gIa_b = (eps, 0.5)\n",
    "\n",
    "gIs_g   = 0.13\n",
    "gIs_std = 0.05 \n",
    "gIs_b = (eps, 0.5) \n",
    "\n",
    "gE_g    = 0.3\n",
    "gE_std = 0.1\n",
    "gE_b = (eps, 1)\n",
    "\n",
    "gA_g    = 0.3 \n",
    "gA_std = 0.1\n",
    "gA_b = (eps, 1)\n",
    "\n",
    "# Infer the rete for each age group independently\n",
    "hh_g = np.array([0.11, 0.09])\n",
    "hh_std = np.array([0.04, 0.04])\n",
    "hh_b = (eps, 0.3)\n",
    "\n",
    "keys = ['alpha', 'beta', 'gIa', 'gIs', 'gE', 'gA', 'hh']  \n",
    "\n",
    "# optimisation parameters \n",
    "ftol = 1e-4 # the relative tol in (-logp) \n",
    "\n",
    "bounds = np.array([alpha_b, beta_b, gIa_b, gIs_b, gE_b, gA_b, hh_b])                \n",
    "guess = np.array([alpha_g, beta_g, gIa_g, gIs_g, gE_g, gA_g, hh_g])             \n",
    "stds = np.array([alpha_std, beta_std, gIa_std, gIs_std, gE_std, gA_std, hh_std]) \n",
    "infer_scale_parameter = [True, False]\n",
    "            \n",
    "start_time = time.time()\n",
    "params = estimator.infer_parameters(keys, guess, stds, bounds, x, Tf_inference, Nf_inference, \n",
    "                                    contactMatrix, infer_scale_parameter=infer_scale_parameter,\n",
    "                                    global_max_iter=15, global_ftol_factor=1e3, \n",
    "                                    verbose=True, ftol=ftol) \n",
    "end_time = time.time()\n",
    "print(end_time - start_time)"
   ]
  },
  {
   "cell_type": "code",
   "execution_count": 7,
   "metadata": {},
   "outputs": [],
   "source": [
    "# save the parameters \n",
    "np.save('SEAI5R_param.npy', params)"
   ]
  },
  {
   "cell_type": "code",
   "execution_count": 8,
   "metadata": {},
   "outputs": [
    {
     "name": "stdout",
     "output_type": "stream",
     "text": [
      "True parameters\n",
      "{'alpha': array([0.2, 0.3]), 'beta': 0.02, 'gIa': 0.14285714285714285, 'gIs': 0.14285714285714285, 'gIh': 0.07142857142857142, 'gIc': 0.07142857142857142, 'gE': 0.2, 'gA': 0.3333333333333333, 'fsa': 0.8, 'fh': 0.1, 'sa': 0, 'hh': array([0.1, 0.1]), 'cc': array([0.05, 0.05]), 'mm': array([0.4, 0.4])}\n",
      "\n",
      " Best estimates\n",
      "{'alpha': array([0.17280578, 0.25920866]), 'beta': 0.01962132871268976, 'gIa': 0.136840448661308, 'gIs': 0.13971668433663859, 'gE': 0.2035241630188767, 'gA': 0.34755225201665235, 'gIh': 0.07142857142857142, 'gIc': 0.07142857142857142, 'fsa': 0.8, 'fh': 0.1, 'sa': 0, 'hh': array([0.06011099, 0.090868  ]), 'cc': array([0.05, 0.05]), 'mm': array([0.4, 0.4])}\n"
     ]
    }
   ],
   "source": [
    "print('True parameters')\n",
    "print(parameters)\n",
    "\n",
    "best_estimates = estimator.make_params_dict(params)\n",
    "print('\\n Best estimates')\n",
    "print(best_estimates)"
   ]
  },
  {
   "cell_type": "code",
   "execution_count": 9,
   "metadata": {},
   "outputs": [
    {
     "data": {
      "image/png": "[encoded data removed]",
      "text/plain": [
       "<Figure size 432x288 with 1 Axes>"
      ]
     },
     "metadata": {
      "needs_background": "light"
     },
     "output_type": "display_data"
    }
   ],
   "source": [
    "x0 = x[0] \n",
    "det_model = pyross.deterministic.SEAI5R(best_estimates, int(M), fi)\n",
    "estimator.set_params(best_estimates)\n",
    "x_det = estimator.integrate(x0, 0, Tf, Nf, det_model, contactMatrix)\n",
    "x = np.load('SEAI5R_traj.npy').astype('float')[:, :8*M]/N\n",
    "\n",
    "plt.plot(np.sum(x[:,0:M], axis=1), label='True S')\n",
    "plt.plot(np.sum(x_det[:,0:M], axis=1), label='Inferred S')\n",
    "plt.plot(np.sum(x[:,M:], axis=1), label='True infectives')\n",
    "plt.plot(np.sum(x_det[:, M:], axis=1), label='Inferred infectives')\n",
    "plt.axvspan(0, Tf_inference, \n",
    "           label='Used for inference',\n",
    "           alpha=0.3, color='dodgerblue')\n",
    "plt.xlim([0, Tf])\n",
    "plt.legend()\n",
    "plt.show()"
   ]
  },
  {
   "cell_type": "code",
   "execution_count": null,
   "metadata": {},
   "outputs": [],
   "source": []
  }
 ],
 "metadata": {
  "kernelspec": {
   "display_name": "Python 3",
   "language": "python",
   "name": "python3"
  },
  "language_info": {
   "codemirror_mode": {
    "name": "ipython",
    "version": 3
   },
   "file_extension": ".py",
   "mimetype": "text/x-python",
   "name": "python",
   "nbconvert_exporter": "python",
   "pygments_lexer": "ipython3",
   "version": "3.7.3"
  }
 },
 "nbformat": 4,
 "nbformat_minor": 4
}
